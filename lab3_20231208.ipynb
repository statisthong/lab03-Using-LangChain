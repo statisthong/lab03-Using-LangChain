{
  "cells": [
    {
      "cell_type": "markdown",
      "id": "3bb2fd80-43a3-4129-86b4-ac797fd4b610",
      "metadata": {
        "id": "3bb2fd80-43a3-4129-86b4-ac797fd4b610"
      },
      "source": [
        "#### lab 3a: LangChain을 사용한 프롬프트 템플릿 만들기 소개"
      ]
    },
    {
      "cell_type": "code",
      "source": [
        "from google.colab import drive\n",
        "drive.mount('/content/drive/')"
      ],
      "metadata": {
        "id": "Z3_Mf0XdVTa7",
        "outputId": "2edc5e23-255b-4477-fe76-e967c536203b",
        "colab": {
          "base_uri": "https://localhost:8080/"
        }
      },
      "id": "Z3_Mf0XdVTa7",
      "execution_count": 2,
      "outputs": [
        {
          "output_type": "stream",
          "name": "stdout",
          "text": [
            "Mounted at /content/drive\n"
          ]
        }
      ]
    },
    {
      "cell_type": "code",
      "source": [
        "!pip install -r '/content/drive/MyDrive/requirements.txt'"
      ],
      "metadata": {
        "id": "cHAOppOJVrMt",
        "outputId": "dc11042a-c96b-4abb-b1db-d44d69b973ea",
        "colab": {
          "base_uri": "https://localhost:8080/"
        }
      },
      "id": "cHAOppOJVrMt",
      "execution_count": 1,
      "outputs": [
        {
          "output_type": "stream",
          "name": "stdout",
          "text": [
            "Requirement already satisfied: ibm-watson-machine-learning==1.0.311 in /usr/local/lib/python3.10/dist-packages (from -r /content/drive/MyDrive/requirements.txt (line 1)) (1.0.311)\n",
            "Requirement already satisfied: ipywidgets==8.0.7 in /usr/local/lib/python3.10/dist-packages (from -r /content/drive/MyDrive/requirements.txt (line 2)) (8.0.7)\n",
            "Requirement already satisfied: jupyter==1.0.0 in /usr/local/lib/python3.10/dist-packages (from -r /content/drive/MyDrive/requirements.txt (line 3)) (1.0.0)\n",
            "Requirement already satisfied: langchain==0.0.236 in /usr/local/lib/python3.10/dist-packages (from -r /content/drive/MyDrive/requirements.txt (line 4)) (0.0.236)\n",
            "Requirement already satisfied: matplotlib==3.7.2 in /usr/local/lib/python3.10/dist-packages (from -r /content/drive/MyDrive/requirements.txt (line 5)) (3.7.2)\n",
            "Requirement already satisfied: numpy==1.23.5 in /usr/local/lib/python3.10/dist-packages (from -r /content/drive/MyDrive/requirements.txt (line 6)) (1.23.5)\n",
            "Requirement already satisfied: pandas==1.5.3 in /usr/local/lib/python3.10/dist-packages (from -r /content/drive/MyDrive/requirements.txt (line 7)) (1.5.3)\n",
            "Requirement already satisfied: plotly==5.15.0 in /usr/local/lib/python3.10/dist-packages (from -r /content/drive/MyDrive/requirements.txt (line 8)) (5.15.0)\n",
            "Requirement already satisfied: pypdf==3.12.2 in /usr/local/lib/python3.10/dist-packages (from -r /content/drive/MyDrive/requirements.txt (line 9)) (3.12.2)\n",
            "Requirement already satisfied: python-dotenv==1.0.0 in /usr/local/lib/python3.10/dist-packages (from -r /content/drive/MyDrive/requirements.txt (line 10)) (1.0.0)\n",
            "Requirement already satisfied: requests==2.31.0 in /usr/local/lib/python3.10/dist-packages (from -r /content/drive/MyDrive/requirements.txt (line 11)) (2.31.0)\n",
            "Requirement already satisfied: urllib3==1.26.11 in /usr/local/lib/python3.10/dist-packages (from -r /content/drive/MyDrive/requirements.txt (line 12)) (1.26.11)\n",
            "Requirement already satisfied: sentence-transformers==2.2.2 in /usr/local/lib/python3.10/dist-packages (from -r /content/drive/MyDrive/requirements.txt (line 13)) (2.2.2)\n",
            "Requirement already satisfied: streamlit==1.24.1 in /usr/local/lib/python3.10/dist-packages (from -r /content/drive/MyDrive/requirements.txt (line 14)) (1.24.1)\n",
            "Requirement already satisfied: safetensors==0.3.1 in /usr/local/lib/python3.10/dist-packages (from -r /content/drive/MyDrive/requirements.txt (line 15)) (0.3.1)\n",
            "Requirement already satisfied: faiss-cpu==1.7.4 in /usr/local/lib/python3.10/dist-packages (from -r /content/drive/MyDrive/requirements.txt (line 16)) (1.7.4)\n",
            "Requirement already satisfied: pymilvus in /usr/local/lib/python3.10/dist-packages (from -r /content/drive/MyDrive/requirements.txt (line 17)) (2.3.4)\n",
            "Collecting fastapi (from -r /content/drive/MyDrive/requirements.txt (line 18))\n",
            "  Downloading fastapi-0.104.1-py3-none-any.whl (92 kB)\n",
            "\u001b[2K     \u001b[90m━━━━━━━━━━━━━━━━━━━━━━━━━━━━━━━━━━━━━━━━\u001b[0m \u001b[32m92.9/92.9 kB\u001b[0m \u001b[31m3.3 MB/s\u001b[0m eta \u001b[36m0:00:00\u001b[0m\n",
            "\u001b[?25hCollecting kaleido (from -r /content/drive/MyDrive/requirements.txt (line 19))\n",
            "  Downloading kaleido-0.2.1-py2.py3-none-manylinux1_x86_64.whl (79.9 MB)\n",
            "\u001b[2K     \u001b[90m━━━━━━━━━━━━━━━━━━━━━━━━━━━━━━━━━━━━━━━━\u001b[0m \u001b[32m79.9/79.9 MB\u001b[0m \u001b[31m6.9 MB/s\u001b[0m eta \u001b[36m0:00:00\u001b[0m\n",
            "\u001b[?25hCollecting python-multipart (from -r /content/drive/MyDrive/requirements.txt (line 20))\n",
            "  Downloading python_multipart-0.0.6-py3-none-any.whl (45 kB)\n",
            "\u001b[2K     \u001b[90m━━━━━━━━━━━━━━━━━━━━━━━━━━━━━━━━━━━━━━━━\u001b[0m \u001b[32m45.7/45.7 kB\u001b[0m \u001b[31m6.1 MB/s\u001b[0m eta \u001b[36m0:00:00\u001b[0m\n",
            "\u001b[?25hCollecting uvicorn (from -r /content/drive/MyDrive/requirements.txt (line 21))\n",
            "  Downloading uvicorn-0.24.0.post1-py3-none-any.whl (59 kB)\n",
            "\u001b[2K     \u001b[90m━━━━━━━━━━━━━━━━━━━━━━━━━━━━━━━━━━━━━━━━\u001b[0m \u001b[32m59.7/59.7 kB\u001b[0m \u001b[31m8.0 MB/s\u001b[0m eta \u001b[36m0:00:00\u001b[0m\n",
            "\u001b[?25hRequirement already satisfied: certifi in /usr/local/lib/python3.10/dist-packages (from ibm-watson-machine-learning==1.0.311->-r /content/drive/MyDrive/requirements.txt (line 1)) (2023.11.17)\n",
            "Requirement already satisfied: lomond in /usr/local/lib/python3.10/dist-packages (from ibm-watson-machine-learning==1.0.311->-r /content/drive/MyDrive/requirements.txt (line 1)) (0.3.3)\n",
            "Requirement already satisfied: tabulate in /usr/local/lib/python3.10/dist-packages (from ibm-watson-machine-learning==1.0.311->-r /content/drive/MyDrive/requirements.txt (line 1)) (0.9.0)\n",
            "Requirement already satisfied: packaging in /usr/local/lib/python3.10/dist-packages (from ibm-watson-machine-learning==1.0.311->-r /content/drive/MyDrive/requirements.txt (line 1)) (23.2)\n",
            "Requirement already satisfied: importlib-metadata in /usr/local/lib/python3.10/dist-packages (from ibm-watson-machine-learning==1.0.311->-r /content/drive/MyDrive/requirements.txt (line 1)) (6.8.0)\n",
            "Requirement already satisfied: ibm-cos-sdk<2.14.0,>=2.12.0 in /usr/local/lib/python3.10/dist-packages (from ibm-watson-machine-learning==1.0.311->-r /content/drive/MyDrive/requirements.txt (line 1)) (2.12.0)\n",
            "Requirement already satisfied: ipykernel>=4.5.1 in /usr/local/lib/python3.10/dist-packages (from ipywidgets==8.0.7->-r /content/drive/MyDrive/requirements.txt (line 2)) (5.5.6)\n",
            "Requirement already satisfied: ipython>=6.1.0 in /usr/local/lib/python3.10/dist-packages (from ipywidgets==8.0.7->-r /content/drive/MyDrive/requirements.txt (line 2)) (7.34.0)\n",
            "Requirement already satisfied: traitlets>=4.3.1 in /usr/local/lib/python3.10/dist-packages (from ipywidgets==8.0.7->-r /content/drive/MyDrive/requirements.txt (line 2)) (5.7.1)\n",
            "Requirement already satisfied: widgetsnbextension~=4.0.7 in /usr/local/lib/python3.10/dist-packages (from ipywidgets==8.0.7->-r /content/drive/MyDrive/requirements.txt (line 2)) (4.0.9)\n",
            "Requirement already satisfied: jupyterlab-widgets~=3.0.7 in /usr/local/lib/python3.10/dist-packages (from ipywidgets==8.0.7->-r /content/drive/MyDrive/requirements.txt (line 2)) (3.0.9)\n",
            "Requirement already satisfied: notebook in /usr/local/lib/python3.10/dist-packages (from jupyter==1.0.0->-r /content/drive/MyDrive/requirements.txt (line 3)) (6.5.5)\n",
            "Requirement already satisfied: qtconsole in /usr/local/lib/python3.10/dist-packages (from jupyter==1.0.0->-r /content/drive/MyDrive/requirements.txt (line 3)) (5.5.1)\n",
            "Requirement already satisfied: jupyter-console in /usr/local/lib/python3.10/dist-packages (from jupyter==1.0.0->-r /content/drive/MyDrive/requirements.txt (line 3)) (6.1.0)\n",
            "Requirement already satisfied: nbconvert in /usr/local/lib/python3.10/dist-packages (from jupyter==1.0.0->-r /content/drive/MyDrive/requirements.txt (line 3)) (6.5.4)\n",
            "Requirement already satisfied: PyYAML>=5.4.1 in /usr/local/lib/python3.10/dist-packages (from langchain==0.0.236->-r /content/drive/MyDrive/requirements.txt (line 4)) (6.0.1)\n",
            "Requirement already satisfied: SQLAlchemy<3,>=1.4 in /usr/local/lib/python3.10/dist-packages (from langchain==0.0.236->-r /content/drive/MyDrive/requirements.txt (line 4)) (2.0.23)\n",
            "Requirement already satisfied: aiohttp<4.0.0,>=3.8.3 in /usr/local/lib/python3.10/dist-packages (from langchain==0.0.236->-r /content/drive/MyDrive/requirements.txt (line 4)) (3.9.1)\n",
            "Requirement already satisfied: async-timeout<5.0.0,>=4.0.0 in /usr/local/lib/python3.10/dist-packages (from langchain==0.0.236->-r /content/drive/MyDrive/requirements.txt (line 4)) (4.0.3)\n",
            "Requirement already satisfied: dataclasses-json<0.6.0,>=0.5.7 in /usr/local/lib/python3.10/dist-packages (from langchain==0.0.236->-r /content/drive/MyDrive/requirements.txt (line 4)) (0.5.14)\n",
            "Requirement already satisfied: langsmith<0.0.11,>=0.0.10 in /usr/local/lib/python3.10/dist-packages (from langchain==0.0.236->-r /content/drive/MyDrive/requirements.txt (line 4)) (0.0.10)\n",
            "Requirement already satisfied: numexpr<3.0.0,>=2.8.4 in /usr/local/lib/python3.10/dist-packages (from langchain==0.0.236->-r /content/drive/MyDrive/requirements.txt (line 4)) (2.8.7)\n",
            "Requirement already satisfied: openapi-schema-pydantic<2.0,>=1.2 in /usr/local/lib/python3.10/dist-packages (from langchain==0.0.236->-r /content/drive/MyDrive/requirements.txt (line 4)) (1.2.4)\n",
            "Requirement already satisfied: pydantic<2,>=1 in /usr/local/lib/python3.10/dist-packages (from langchain==0.0.236->-r /content/drive/MyDrive/requirements.txt (line 4)) (1.10.13)\n",
            "Requirement already satisfied: tenacity<9.0.0,>=8.1.0 in /usr/local/lib/python3.10/dist-packages (from langchain==0.0.236->-r /content/drive/MyDrive/requirements.txt (line 4)) (8.2.3)\n",
            "Requirement already satisfied: contourpy>=1.0.1 in /usr/local/lib/python3.10/dist-packages (from matplotlib==3.7.2->-r /content/drive/MyDrive/requirements.txt (line 5)) (1.2.0)\n",
            "Requirement already satisfied: cycler>=0.10 in /usr/local/lib/python3.10/dist-packages (from matplotlib==3.7.2->-r /content/drive/MyDrive/requirements.txt (line 5)) (0.12.1)\n",
            "Requirement already satisfied: fonttools>=4.22.0 in /usr/local/lib/python3.10/dist-packages (from matplotlib==3.7.2->-r /content/drive/MyDrive/requirements.txt (line 5)) (4.45.1)\n",
            "Requirement already satisfied: kiwisolver>=1.0.1 in /usr/local/lib/python3.10/dist-packages (from matplotlib==3.7.2->-r /content/drive/MyDrive/requirements.txt (line 5)) (1.4.5)\n",
            "Requirement already satisfied: pillow>=6.2.0 in /usr/local/lib/python3.10/dist-packages (from matplotlib==3.7.2->-r /content/drive/MyDrive/requirements.txt (line 5)) (9.4.0)\n",
            "Requirement already satisfied: pyparsing<3.1,>=2.3.1 in /usr/local/lib/python3.10/dist-packages (from matplotlib==3.7.2->-r /content/drive/MyDrive/requirements.txt (line 5)) (3.0.9)\n",
            "Requirement already satisfied: python-dateutil>=2.7 in /usr/local/lib/python3.10/dist-packages (from matplotlib==3.7.2->-r /content/drive/MyDrive/requirements.txt (line 5)) (2.8.2)\n",
            "Requirement already satisfied: pytz>=2020.1 in /usr/local/lib/python3.10/dist-packages (from pandas==1.5.3->-r /content/drive/MyDrive/requirements.txt (line 7)) (2023.3.post1)\n",
            "Requirement already satisfied: charset-normalizer<4,>=2 in /usr/local/lib/python3.10/dist-packages (from requests==2.31.0->-r /content/drive/MyDrive/requirements.txt (line 11)) (3.3.2)\n",
            "Requirement already satisfied: idna<4,>=2.5 in /usr/local/lib/python3.10/dist-packages (from requests==2.31.0->-r /content/drive/MyDrive/requirements.txt (line 11)) (3.6)\n",
            "Requirement already satisfied: transformers<5.0.0,>=4.6.0 in /usr/local/lib/python3.10/dist-packages (from sentence-transformers==2.2.2->-r /content/drive/MyDrive/requirements.txt (line 13)) (4.35.2)\n",
            "Requirement already satisfied: tqdm in /usr/local/lib/python3.10/dist-packages (from sentence-transformers==2.2.2->-r /content/drive/MyDrive/requirements.txt (line 13)) (4.66.1)\n",
            "Requirement already satisfied: torch>=1.6.0 in /usr/local/lib/python3.10/dist-packages (from sentence-transformers==2.2.2->-r /content/drive/MyDrive/requirements.txt (line 13)) (2.1.0+cu118)\n",
            "Requirement already satisfied: torchvision in /usr/local/lib/python3.10/dist-packages (from sentence-transformers==2.2.2->-r /content/drive/MyDrive/requirements.txt (line 13)) (0.16.0+cu118)\n",
            "Requirement already satisfied: scikit-learn in /usr/local/lib/python3.10/dist-packages (from sentence-transformers==2.2.2->-r /content/drive/MyDrive/requirements.txt (line 13)) (1.2.2)\n",
            "Requirement already satisfied: scipy in /usr/local/lib/python3.10/dist-packages (from sentence-transformers==2.2.2->-r /content/drive/MyDrive/requirements.txt (line 13)) (1.11.4)\n",
            "Requirement already satisfied: nltk in /usr/local/lib/python3.10/dist-packages (from sentence-transformers==2.2.2->-r /content/drive/MyDrive/requirements.txt (line 13)) (3.8.1)\n",
            "Requirement already satisfied: sentencepiece in /usr/local/lib/python3.10/dist-packages (from sentence-transformers==2.2.2->-r /content/drive/MyDrive/requirements.txt (line 13)) (0.1.99)\n",
            "Requirement already satisfied: huggingface-hub>=0.4.0 in /usr/local/lib/python3.10/dist-packages (from sentence-transformers==2.2.2->-r /content/drive/MyDrive/requirements.txt (line 13)) (0.19.4)\n",
            "Requirement already satisfied: altair<6,>=4.0 in /usr/local/lib/python3.10/dist-packages (from streamlit==1.24.1->-r /content/drive/MyDrive/requirements.txt (line 14)) (4.2.2)\n",
            "Requirement already satisfied: blinker<2,>=1.0.0 in /usr/lib/python3/dist-packages (from streamlit==1.24.1->-r /content/drive/MyDrive/requirements.txt (line 14)) (1.4)\n",
            "Requirement already satisfied: cachetools<6,>=4.0 in /usr/local/lib/python3.10/dist-packages (from streamlit==1.24.1->-r /content/drive/MyDrive/requirements.txt (line 14)) (5.3.2)\n",
            "Requirement already satisfied: click<9,>=7.0 in /usr/local/lib/python3.10/dist-packages (from streamlit==1.24.1->-r /content/drive/MyDrive/requirements.txt (line 14)) (8.1.7)\n",
            "Requirement already satisfied: protobuf<5,>=3.20 in /usr/local/lib/python3.10/dist-packages (from streamlit==1.24.1->-r /content/drive/MyDrive/requirements.txt (line 14)) (3.20.3)\n",
            "Requirement already satisfied: pyarrow>=4.0 in /usr/local/lib/python3.10/dist-packages (from streamlit==1.24.1->-r /content/drive/MyDrive/requirements.txt (line 14)) (14.0.1)\n",
            "Requirement already satisfied: pympler<2,>=0.9 in /usr/local/lib/python3.10/dist-packages (from streamlit==1.24.1->-r /content/drive/MyDrive/requirements.txt (line 14)) (1.0.1)\n",
            "Requirement already satisfied: rich<14,>=10.11.0 in /usr/local/lib/python3.10/dist-packages (from streamlit==1.24.1->-r /content/drive/MyDrive/requirements.txt (line 14)) (13.7.0)\n",
            "Requirement already satisfied: toml<2 in /usr/local/lib/python3.10/dist-packages (from streamlit==1.24.1->-r /content/drive/MyDrive/requirements.txt (line 14)) (0.10.2)\n",
            "Requirement already satisfied: typing-extensions<5,>=4.0.1 in /usr/local/lib/python3.10/dist-packages (from streamlit==1.24.1->-r /content/drive/MyDrive/requirements.txt (line 14)) (4.5.0)\n",
            "Requirement already satisfied: tzlocal<5,>=1.1 in /usr/local/lib/python3.10/dist-packages (from streamlit==1.24.1->-r /content/drive/MyDrive/requirements.txt (line 14)) (4.3.1)\n",
            "Requirement already satisfied: validators<1,>=0.2 in /usr/local/lib/python3.10/dist-packages (from streamlit==1.24.1->-r /content/drive/MyDrive/requirements.txt (line 14)) (0.22.0)\n",
            "Requirement already satisfied: gitpython!=3.1.19,<4,>=3 in /usr/local/lib/python3.10/dist-packages (from streamlit==1.24.1->-r /content/drive/MyDrive/requirements.txt (line 14)) (3.1.40)\n",
            "Requirement already satisfied: pydeck<1,>=0.1.dev5 in /usr/local/lib/python3.10/dist-packages (from streamlit==1.24.1->-r /content/drive/MyDrive/requirements.txt (line 14)) (0.8.1b0)\n",
            "Requirement already satisfied: tornado<7,>=6.0.3 in /usr/local/lib/python3.10/dist-packages (from streamlit==1.24.1->-r /content/drive/MyDrive/requirements.txt (line 14)) (6.3.2)\n",
            "Requirement already satisfied: watchdog in /usr/local/lib/python3.10/dist-packages (from streamlit==1.24.1->-r /content/drive/MyDrive/requirements.txt (line 14)) (3.0.0)\n",
            "Requirement already satisfied: grpcio<=1.58.0,>=1.49.1 in /usr/local/lib/python3.10/dist-packages (from pymilvus->-r /content/drive/MyDrive/requirements.txt (line 17)) (1.58.0)\n",
            "Requirement already satisfied: environs<=9.5.0 in /usr/local/lib/python3.10/dist-packages (from pymilvus->-r /content/drive/MyDrive/requirements.txt (line 17)) (9.5.0)\n",
            "Requirement already satisfied: ujson>=2.0.0 in /usr/local/lib/python3.10/dist-packages (from pymilvus->-r /content/drive/MyDrive/requirements.txt (line 17)) (5.8.0)\n",
            "Requirement already satisfied: minio>=7.0.0 in /usr/local/lib/python3.10/dist-packages (from pymilvus->-r /content/drive/MyDrive/requirements.txt (line 17)) (7.2.0)\n",
            "Requirement already satisfied: anyio<4.0.0,>=3.7.1 in /usr/local/lib/python3.10/dist-packages (from fastapi->-r /content/drive/MyDrive/requirements.txt (line 18)) (3.7.1)\n",
            "Collecting starlette<0.28.0,>=0.27.0 (from fastapi->-r /content/drive/MyDrive/requirements.txt (line 18))\n",
            "  Downloading starlette-0.27.0-py3-none-any.whl (66 kB)\n",
            "\u001b[2K     \u001b[90m━━━━━━━━━━━━━━━━━━━━━━━━━━━━━━━━━━━━━━━━\u001b[0m \u001b[32m67.0/67.0 kB\u001b[0m \u001b[31m8.8 MB/s\u001b[0m eta \u001b[36m0:00:00\u001b[0m\n",
            "\u001b[?25hCollecting typing-extensions<5,>=4.0.1 (from streamlit==1.24.1->-r /content/drive/MyDrive/requirements.txt (line 14))\n",
            "  Downloading typing_extensions-4.8.0-py3-none-any.whl (31 kB)\n",
            "Collecting h11>=0.8 (from uvicorn->-r /content/drive/MyDrive/requirements.txt (line 21))\n",
            "  Downloading h11-0.14.0-py3-none-any.whl (58 kB)\n",
            "\u001b[2K     \u001b[90m━━━━━━━━━━━━━━━━━━━━━━━━━━━━━━━━━━━━━━━━\u001b[0m \u001b[32m58.3/58.3 kB\u001b[0m \u001b[31m7.7 MB/s\u001b[0m eta \u001b[36m0:00:00\u001b[0m\n",
            "\u001b[?25hRequirement already satisfied: attrs>=17.3.0 in /usr/local/lib/python3.10/dist-packages (from aiohttp<4.0.0,>=3.8.3->langchain==0.0.236->-r /content/drive/MyDrive/requirements.txt (line 4)) (23.1.0)\n",
            "Requirement already satisfied: multidict<7.0,>=4.5 in /usr/local/lib/python3.10/dist-packages (from aiohttp<4.0.0,>=3.8.3->langchain==0.0.236->-r /content/drive/MyDrive/requirements.txt (line 4)) (6.0.4)\n",
            "Requirement already satisfied: yarl<2.0,>=1.0 in /usr/local/lib/python3.10/dist-packages (from aiohttp<4.0.0,>=3.8.3->langchain==0.0.236->-r /content/drive/MyDrive/requirements.txt (line 4)) (1.9.3)\n",
            "Requirement already satisfied: frozenlist>=1.1.1 in /usr/local/lib/python3.10/dist-packages (from aiohttp<4.0.0,>=3.8.3->langchain==0.0.236->-r /content/drive/MyDrive/requirements.txt (line 4)) (1.4.0)\n",
            "Requirement already satisfied: aiosignal>=1.1.2 in /usr/local/lib/python3.10/dist-packages (from aiohttp<4.0.0,>=3.8.3->langchain==0.0.236->-r /content/drive/MyDrive/requirements.txt (line 4)) (1.3.1)\n",
            "Requirement already satisfied: entrypoints in /usr/local/lib/python3.10/dist-packages (from altair<6,>=4.0->streamlit==1.24.1->-r /content/drive/MyDrive/requirements.txt (line 14)) (0.4)\n",
            "Requirement already satisfied: jinja2 in /usr/local/lib/python3.10/dist-packages (from altair<6,>=4.0->streamlit==1.24.1->-r /content/drive/MyDrive/requirements.txt (line 14)) (3.1.2)\n",
            "Requirement already satisfied: jsonschema>=3.0 in /usr/local/lib/python3.10/dist-packages (from altair<6,>=4.0->streamlit==1.24.1->-r /content/drive/MyDrive/requirements.txt (line 14)) (4.19.2)\n",
            "Requirement already satisfied: toolz in /usr/local/lib/python3.10/dist-packages (from altair<6,>=4.0->streamlit==1.24.1->-r /content/drive/MyDrive/requirements.txt (line 14)) (0.12.0)\n",
            "Requirement already satisfied: sniffio>=1.1 in /usr/local/lib/python3.10/dist-packages (from anyio<4.0.0,>=3.7.1->fastapi->-r /content/drive/MyDrive/requirements.txt (line 18)) (1.3.0)\n",
            "Requirement already satisfied: exceptiongroup in /usr/local/lib/python3.10/dist-packages (from anyio<4.0.0,>=3.7.1->fastapi->-r /content/drive/MyDrive/requirements.txt (line 18)) (1.2.0)\n",
            "Requirement already satisfied: marshmallow<4.0.0,>=3.18.0 in /usr/local/lib/python3.10/dist-packages (from dataclasses-json<0.6.0,>=0.5.7->langchain==0.0.236->-r /content/drive/MyDrive/requirements.txt (line 4)) (3.20.1)\n",
            "Requirement already satisfied: typing-inspect<1,>=0.4.0 in /usr/local/lib/python3.10/dist-packages (from dataclasses-json<0.6.0,>=0.5.7->langchain==0.0.236->-r /content/drive/MyDrive/requirements.txt (line 4)) (0.9.0)\n",
            "Requirement already satisfied: gitdb<5,>=4.0.1 in /usr/local/lib/python3.10/dist-packages (from gitpython!=3.1.19,<4,>=3->streamlit==1.24.1->-r /content/drive/MyDrive/requirements.txt (line 14)) (4.0.11)\n",
            "Requirement already satisfied: filelock in /usr/local/lib/python3.10/dist-packages (from huggingface-hub>=0.4.0->sentence-transformers==2.2.2->-r /content/drive/MyDrive/requirements.txt (line 13)) (3.13.1)\n",
            "Requirement already satisfied: fsspec>=2023.5.0 in /usr/local/lib/python3.10/dist-packages (from huggingface-hub>=0.4.0->sentence-transformers==2.2.2->-r /content/drive/MyDrive/requirements.txt (line 13)) (2023.6.0)\n",
            "Requirement already satisfied: ibm-cos-sdk-core==2.12.0 in /usr/local/lib/python3.10/dist-packages (from ibm-cos-sdk<2.14.0,>=2.12.0->ibm-watson-machine-learning==1.0.311->-r /content/drive/MyDrive/requirements.txt (line 1)) (2.12.0)\n",
            "Requirement already satisfied: ibm-cos-sdk-s3transfer==2.12.0 in /usr/local/lib/python3.10/dist-packages (from ibm-cos-sdk<2.14.0,>=2.12.0->ibm-watson-machine-learning==1.0.311->-r /content/drive/MyDrive/requirements.txt (line 1)) (2.12.0)\n",
            "Requirement already satisfied: jmespath<1.0.0,>=0.10.0 in /usr/local/lib/python3.10/dist-packages (from ibm-cos-sdk<2.14.0,>=2.12.0->ibm-watson-machine-learning==1.0.311->-r /content/drive/MyDrive/requirements.txt (line 1)) (0.10.0)\n",
            "Requirement already satisfied: zipp>=0.5 in /usr/local/lib/python3.10/dist-packages (from importlib-metadata->ibm-watson-machine-learning==1.0.311->-r /content/drive/MyDrive/requirements.txt (line 1)) (3.17.0)\n",
            "Requirement already satisfied: ipython-genutils in /usr/local/lib/python3.10/dist-packages (from ipykernel>=4.5.1->ipywidgets==8.0.7->-r /content/drive/MyDrive/requirements.txt (line 2)) (0.2.0)\n",
            "Requirement already satisfied: jupyter-client in /usr/local/lib/python3.10/dist-packages (from ipykernel>=4.5.1->ipywidgets==8.0.7->-r /content/drive/MyDrive/requirements.txt (line 2)) (6.1.12)\n",
            "Requirement already satisfied: setuptools>=18.5 in /usr/local/lib/python3.10/dist-packages (from ipython>=6.1.0->ipywidgets==8.0.7->-r /content/drive/MyDrive/requirements.txt (line 2)) (67.7.2)\n",
            "Requirement already satisfied: jedi>=0.16 in /usr/local/lib/python3.10/dist-packages (from ipython>=6.1.0->ipywidgets==8.0.7->-r /content/drive/MyDrive/requirements.txt (line 2)) (0.19.1)\n",
            "Requirement already satisfied: decorator in /usr/local/lib/python3.10/dist-packages (from ipython>=6.1.0->ipywidgets==8.0.7->-r /content/drive/MyDrive/requirements.txt (line 2)) (4.4.2)\n",
            "Requirement already satisfied: pickleshare in /usr/local/lib/python3.10/dist-packages (from ipython>=6.1.0->ipywidgets==8.0.7->-r /content/drive/MyDrive/requirements.txt (line 2)) (0.7.5)\n",
            "Requirement already satisfied: prompt-toolkit!=3.0.0,!=3.0.1,<3.1.0,>=2.0.0 in /usr/local/lib/python3.10/dist-packages (from ipython>=6.1.0->ipywidgets==8.0.7->-r /content/drive/MyDrive/requirements.txt (line 2)) (3.0.41)\n",
            "Requirement already satisfied: pygments in /usr/local/lib/python3.10/dist-packages (from ipython>=6.1.0->ipywidgets==8.0.7->-r /content/drive/MyDrive/requirements.txt (line 2)) (2.16.1)\n",
            "Requirement already satisfied: backcall in /usr/local/lib/python3.10/dist-packages (from ipython>=6.1.0->ipywidgets==8.0.7->-r /content/drive/MyDrive/requirements.txt (line 2)) (0.2.0)\n",
            "Requirement already satisfied: matplotlib-inline in /usr/local/lib/python3.10/dist-packages (from ipython>=6.1.0->ipywidgets==8.0.7->-r /content/drive/MyDrive/requirements.txt (line 2)) (0.1.6)\n",
            "Requirement already satisfied: pexpect>4.3 in /usr/local/lib/python3.10/dist-packages (from ipython>=6.1.0->ipywidgets==8.0.7->-r /content/drive/MyDrive/requirements.txt (line 2)) (4.9.0)\n",
            "Requirement already satisfied: argon2-cffi in /usr/local/lib/python3.10/dist-packages (from minio>=7.0.0->pymilvus->-r /content/drive/MyDrive/requirements.txt (line 17)) (23.1.0)\n",
            "Requirement already satisfied: pycryptodome in /usr/local/lib/python3.10/dist-packages (from minio>=7.0.0->pymilvus->-r /content/drive/MyDrive/requirements.txt (line 17)) (3.19.0)\n",
            "Requirement already satisfied: six>=1.5 in /usr/local/lib/python3.10/dist-packages (from python-dateutil>=2.7->matplotlib==3.7.2->-r /content/drive/MyDrive/requirements.txt (line 5)) (1.16.0)\n",
            "Requirement already satisfied: markdown-it-py>=2.2.0 in /usr/local/lib/python3.10/dist-packages (from rich<14,>=10.11.0->streamlit==1.24.1->-r /content/drive/MyDrive/requirements.txt (line 14)) (3.0.0)\n",
            "Requirement already satisfied: greenlet!=0.4.17 in /usr/local/lib/python3.10/dist-packages (from SQLAlchemy<3,>=1.4->langchain==0.0.236->-r /content/drive/MyDrive/requirements.txt (line 4)) (3.0.1)\n",
            "Requirement already satisfied: sympy in /usr/local/lib/python3.10/dist-packages (from torch>=1.6.0->sentence-transformers==2.2.2->-r /content/drive/MyDrive/requirements.txt (line 13)) (1.12)\n",
            "Requirement already satisfied: networkx in /usr/local/lib/python3.10/dist-packages (from torch>=1.6.0->sentence-transformers==2.2.2->-r /content/drive/MyDrive/requirements.txt (line 13)) (3.2.1)\n",
            "Requirement already satisfied: triton==2.1.0 in /usr/local/lib/python3.10/dist-packages (from torch>=1.6.0->sentence-transformers==2.2.2->-r /content/drive/MyDrive/requirements.txt (line 13)) (2.1.0)\n",
            "Requirement already satisfied: regex!=2019.12.17 in /usr/local/lib/python3.10/dist-packages (from transformers<5.0.0,>=4.6.0->sentence-transformers==2.2.2->-r /content/drive/MyDrive/requirements.txt (line 13)) (2023.6.3)\n",
            "Requirement already satisfied: tokenizers<0.19,>=0.14 in /usr/local/lib/python3.10/dist-packages (from transformers<5.0.0,>=4.6.0->sentence-transformers==2.2.2->-r /content/drive/MyDrive/requirements.txt (line 13)) (0.15.0)\n",
            "Requirement already satisfied: pytz-deprecation-shim in /usr/local/lib/python3.10/dist-packages (from tzlocal<5,>=1.1->streamlit==1.24.1->-r /content/drive/MyDrive/requirements.txt (line 14)) (0.1.0.post0)\n",
            "Requirement already satisfied: lxml in /usr/local/lib/python3.10/dist-packages (from nbconvert->jupyter==1.0.0->-r /content/drive/MyDrive/requirements.txt (line 3)) (4.9.3)\n",
            "Requirement already satisfied: beautifulsoup4 in /usr/local/lib/python3.10/dist-packages (from nbconvert->jupyter==1.0.0->-r /content/drive/MyDrive/requirements.txt (line 3)) (4.11.2)\n",
            "Requirement already satisfied: bleach in /usr/local/lib/python3.10/dist-packages (from nbconvert->jupyter==1.0.0->-r /content/drive/MyDrive/requirements.txt (line 3)) (6.1.0)\n",
            "Requirement already satisfied: defusedxml in /usr/local/lib/python3.10/dist-packages (from nbconvert->jupyter==1.0.0->-r /content/drive/MyDrive/requirements.txt (line 3)) (0.7.1)\n",
            "Requirement already satisfied: jupyter-core>=4.7 in /usr/local/lib/python3.10/dist-packages (from nbconvert->jupyter==1.0.0->-r /content/drive/MyDrive/requirements.txt (line 3)) (5.5.0)\n",
            "Requirement already satisfied: jupyterlab-pygments in /usr/local/lib/python3.10/dist-packages (from nbconvert->jupyter==1.0.0->-r /content/drive/MyDrive/requirements.txt (line 3)) (0.3.0)\n",
            "Requirement already satisfied: MarkupSafe>=2.0 in /usr/local/lib/python3.10/dist-packages (from nbconvert->jupyter==1.0.0->-r /content/drive/MyDrive/requirements.txt (line 3)) (2.1.3)\n",
            "Requirement already satisfied: mistune<2,>=0.8.1 in /usr/local/lib/python3.10/dist-packages (from nbconvert->jupyter==1.0.0->-r /content/drive/MyDrive/requirements.txt (line 3)) (0.8.4)\n",
            "Requirement already satisfied: nbclient>=0.5.0 in /usr/local/lib/python3.10/dist-packages (from nbconvert->jupyter==1.0.0->-r /content/drive/MyDrive/requirements.txt (line 3)) (0.9.0)\n",
            "Requirement already satisfied: nbformat>=5.1 in /usr/local/lib/python3.10/dist-packages (from nbconvert->jupyter==1.0.0->-r /content/drive/MyDrive/requirements.txt (line 3)) (5.9.2)\n",
            "Requirement already satisfied: pandocfilters>=1.4.1 in /usr/local/lib/python3.10/dist-packages (from nbconvert->jupyter==1.0.0->-r /content/drive/MyDrive/requirements.txt (line 3)) (1.5.0)\n",
            "Requirement already satisfied: tinycss2 in /usr/local/lib/python3.10/dist-packages (from nbconvert->jupyter==1.0.0->-r /content/drive/MyDrive/requirements.txt (line 3)) (1.2.1)\n",
            "Requirement already satisfied: joblib in /usr/local/lib/python3.10/dist-packages (from nltk->sentence-transformers==2.2.2->-r /content/drive/MyDrive/requirements.txt (line 13)) (1.3.2)\n",
            "Requirement already satisfied: pyzmq<25,>=17 in /usr/local/lib/python3.10/dist-packages (from notebook->jupyter==1.0.0->-r /content/drive/MyDrive/requirements.txt (line 3)) (23.2.1)\n",
            "Requirement already satisfied: nest-asyncio>=1.5 in /usr/local/lib/python3.10/dist-packages (from notebook->jupyter==1.0.0->-r /content/drive/MyDrive/requirements.txt (line 3)) (1.5.8)\n",
            "Requirement already satisfied: Send2Trash>=1.8.0 in /usr/local/lib/python3.10/dist-packages (from notebook->jupyter==1.0.0->-r /content/drive/MyDrive/requirements.txt (line 3)) (1.8.2)\n",
            "Requirement already satisfied: terminado>=0.8.3 in /usr/local/lib/python3.10/dist-packages (from notebook->jupyter==1.0.0->-r /content/drive/MyDrive/requirements.txt (line 3)) (0.18.0)\n",
            "Requirement already satisfied: prometheus-client in /usr/local/lib/python3.10/dist-packages (from notebook->jupyter==1.0.0->-r /content/drive/MyDrive/requirements.txt (line 3)) (0.19.0)\n",
            "Requirement already satisfied: nbclassic>=0.4.7 in /usr/local/lib/python3.10/dist-packages (from notebook->jupyter==1.0.0->-r /content/drive/MyDrive/requirements.txt (line 3)) (1.0.0)\n",
            "Requirement already satisfied: qtpy>=2.4.0 in /usr/local/lib/python3.10/dist-packages (from qtconsole->jupyter==1.0.0->-r /content/drive/MyDrive/requirements.txt (line 3)) (2.4.1)\n",
            "Requirement already satisfied: threadpoolctl>=2.0.0 in /usr/local/lib/python3.10/dist-packages (from scikit-learn->sentence-transformers==2.2.2->-r /content/drive/MyDrive/requirements.txt (line 13)) (3.2.0)\n",
            "Requirement already satisfied: smmap<6,>=3.0.1 in /usr/local/lib/python3.10/dist-packages (from gitdb<5,>=4.0.1->gitpython!=3.1.19,<4,>=3->streamlit==1.24.1->-r /content/drive/MyDrive/requirements.txt (line 14)) (5.0.1)\n",
            "Requirement already satisfied: parso<0.9.0,>=0.8.3 in /usr/local/lib/python3.10/dist-packages (from jedi>=0.16->ipython>=6.1.0->ipywidgets==8.0.7->-r /content/drive/MyDrive/requirements.txt (line 2)) (0.8.3)\n",
            "Requirement already satisfied: jsonschema-specifications>=2023.03.6 in /usr/local/lib/python3.10/dist-packages (from jsonschema>=3.0->altair<6,>=4.0->streamlit==1.24.1->-r /content/drive/MyDrive/requirements.txt (line 14)) (2023.11.2)\n",
            "Requirement already satisfied: referencing>=0.28.4 in /usr/local/lib/python3.10/dist-packages (from jsonschema>=3.0->altair<6,>=4.0->streamlit==1.24.1->-r /content/drive/MyDrive/requirements.txt (line 14)) (0.31.1)\n",
            "Requirement already satisfied: rpds-py>=0.7.1 in /usr/local/lib/python3.10/dist-packages (from jsonschema>=3.0->altair<6,>=4.0->streamlit==1.24.1->-r /content/drive/MyDrive/requirements.txt (line 14)) (0.13.2)\n",
            "Requirement already satisfied: platformdirs>=2.5 in /usr/local/lib/python3.10/dist-packages (from jupyter-core>=4.7->nbconvert->jupyter==1.0.0->-r /content/drive/MyDrive/requirements.txt (line 3)) (4.0.0)\n",
            "Requirement already satisfied: mdurl~=0.1 in /usr/local/lib/python3.10/dist-packages (from markdown-it-py>=2.2.0->rich<14,>=10.11.0->streamlit==1.24.1->-r /content/drive/MyDrive/requirements.txt (line 14)) (0.1.2)\n",
            "Requirement already satisfied: jupyter-server>=1.8 in /usr/local/lib/python3.10/dist-packages (from nbclassic>=0.4.7->notebook->jupyter==1.0.0->-r /content/drive/MyDrive/requirements.txt (line 3)) (1.24.0)\n",
            "Requirement already satisfied: notebook-shim>=0.2.3 in /usr/local/lib/python3.10/dist-packages (from nbclassic>=0.4.7->notebook->jupyter==1.0.0->-r /content/drive/MyDrive/requirements.txt (line 3)) (0.2.3)\n",
            "Requirement already satisfied: fastjsonschema in /usr/local/lib/python3.10/dist-packages (from nbformat>=5.1->nbconvert->jupyter==1.0.0->-r /content/drive/MyDrive/requirements.txt (line 3)) (2.19.0)\n",
            "Requirement already satisfied: ptyprocess>=0.5 in /usr/local/lib/python3.10/dist-packages (from pexpect>4.3->ipython>=6.1.0->ipywidgets==8.0.7->-r /content/drive/MyDrive/requirements.txt (line 2)) (0.7.0)\n",
            "Requirement already satisfied: wcwidth in /usr/local/lib/python3.10/dist-packages (from prompt-toolkit!=3.0.0,!=3.0.1,<3.1.0,>=2.0.0->ipython>=6.1.0->ipywidgets==8.0.7->-r /content/drive/MyDrive/requirements.txt (line 2)) (0.2.12)\n",
            "Requirement already satisfied: mypy-extensions>=0.3.0 in /usr/local/lib/python3.10/dist-packages (from typing-inspect<1,>=0.4.0->dataclasses-json<0.6.0,>=0.5.7->langchain==0.0.236->-r /content/drive/MyDrive/requirements.txt (line 4)) (1.0.0)\n",
            "Requirement already satisfied: argon2-cffi-bindings in /usr/local/lib/python3.10/dist-packages (from argon2-cffi->minio>=7.0.0->pymilvus->-r /content/drive/MyDrive/requirements.txt (line 17)) (21.2.0)\n",
            "Requirement already satisfied: soupsieve>1.2 in /usr/local/lib/python3.10/dist-packages (from beautifulsoup4->nbconvert->jupyter==1.0.0->-r /content/drive/MyDrive/requirements.txt (line 3)) (2.5)\n",
            "Requirement already satisfied: webencodings in /usr/local/lib/python3.10/dist-packages (from bleach->nbconvert->jupyter==1.0.0->-r /content/drive/MyDrive/requirements.txt (line 3)) (0.5.1)\n",
            "Requirement already satisfied: tzdata in /usr/local/lib/python3.10/dist-packages (from pytz-deprecation-shim->tzlocal<5,>=1.1->streamlit==1.24.1->-r /content/drive/MyDrive/requirements.txt (line 14)) (2023.3)\n",
            "Requirement already satisfied: mpmath>=0.19 in /usr/local/lib/python3.10/dist-packages (from sympy->torch>=1.6.0->sentence-transformers==2.2.2->-r /content/drive/MyDrive/requirements.txt (line 13)) (1.3.0)\n",
            "Requirement already satisfied: websocket-client in /usr/local/lib/python3.10/dist-packages (from jupyter-server>=1.8->nbclassic>=0.4.7->notebook->jupyter==1.0.0->-r /content/drive/MyDrive/requirements.txt (line 3)) (1.6.4)\n",
            "Requirement already satisfied: cffi>=1.0.1 in /usr/local/lib/python3.10/dist-packages (from argon2-cffi-bindings->argon2-cffi->minio>=7.0.0->pymilvus->-r /content/drive/MyDrive/requirements.txt (line 17)) (1.16.0)\n",
            "Requirement already satisfied: pycparser in /usr/local/lib/python3.10/dist-packages (from cffi>=1.0.1->argon2-cffi-bindings->argon2-cffi->minio>=7.0.0->pymilvus->-r /content/drive/MyDrive/requirements.txt (line 17)) (2.21)\n",
            "Installing collected packages: kaleido, typing-extensions, python-multipart, h11, uvicorn, starlette, fastapi\n",
            "  Attempting uninstall: typing-extensions\n",
            "    Found existing installation: typing_extensions 4.5.0\n",
            "    Uninstalling typing_extensions-4.5.0:\n",
            "      Successfully uninstalled typing_extensions-4.5.0\n",
            "\u001b[31mERROR: pip's dependency resolver does not currently take into account all the packages that are installed. This behaviour is the source of the following dependency conflicts.\n",
            "ibis-framework 6.2.0 requires pyarrow<13,>=2, but you have pyarrow 14.0.1 which is incompatible.\n",
            "tensorflow-probability 0.22.0 requires typing-extensions<4.6.0, but you have typing-extensions 4.8.0 which is incompatible.\u001b[0m\u001b[31m\n",
            "\u001b[0mSuccessfully installed fastapi-0.104.1 h11-0.14.0 kaleido-0.2.1 python-multipart-0.0.6 starlette-0.27.0 typing-extensions-4.8.0 uvicorn-0.24.0.post1\n"
          ]
        }
      ]
    },
    {
      "cell_type": "code",
      "execution_count": 2,
      "id": "38e1bdbf-5f3d-4ed8-862d-ef704938de90",
      "metadata": {
        "id": "38e1bdbf-5f3d-4ed8-862d-ef704938de90"
      },
      "outputs": [],
      "source": [
        "from ibm_watson_machine_learning.metanames import GenTextParamsMetaNames as GenParams\n",
        "from ibm_watson_machine_learning.foundation_models.utils.enums import DecodingMethods\n",
        "from ibm_watson_machine_learning.foundation_models.utils.enums import ModelTypes\n",
        "from langchain.llms.base import LLM\n",
        "from dotenv import load_dotenv\n",
        "from langchain import PromptTemplate, FewShotPromptTemplate\n",
        "import os\n",
        "from ibm_watson_machine_learning.foundation_models import Model\n",
        "from langchain.chains import LLMChain, SimpleSequentialChain\n",
        "from typing import Any, List, Mapping, Optional, Union, Dict\n",
        "\n",
        "'''\n",
        "load_dotenv()\n",
        "api_key = os.getenv(\"API_KEY\", None)\n",
        "ibm_cloud_url = os.getenv(\"IBM_CLOUD_URL\", 'https://us-south.ml.cloud.ibm.com')\n",
        "project_id = os.getenv(\"PROJECT_ID\", None)\n",
        "if api_key is None or ibm_cloud_url is None or project_id is None:\n",
        "    print(\"Ensure you copied the .env file that you created earlier into the same directory as this notebook\")\n",
        "else:\n",
        "'''\n",
        "\n",
        "api_key = \"Mhzsj6t8h8ASVevnMp2eoyvqDmoFqyCUFJNyGiKbXt9-\"\n",
        "ibm_cloud_url = \"https://us-south.ml.cloud.ibm.com\"\n",
        "project_id = \"8228f242-6a2e-4ef3-ad98-157d4f7e831a\"\n",
        "\n",
        "creds = {\n",
        "        \"url\": ibm_cloud_url,\n",
        "        \"apikey\": api_key\n",
        "}\n"
      ]
    },
    {
      "cell_type": "code",
      "execution_count": 3,
      "id": "b6f6dcd7-c7c4-4578-9b85-a8497832ac68",
      "metadata": {
        "id": "b6f6dcd7-c7c4-4578-9b85-a8497832ac68"
      },
      "outputs": [],
      "source": [
        "# Wrap the WatsonX Model in a langchain.llms.base.LLM subclass to allow LangChain to interact with the model\n",
        "\n",
        "class LangChainInterface(LLM):\n",
        "    credentials: Optional[Dict] = None\n",
        "    model: Optional[str] = None\n",
        "    params: Optional[Dict] = None\n",
        "    project_id : Optional[str]=None\n",
        "\n",
        "    @property\n",
        "    def _identifying_params(self) -> Mapping[str, Any]:\n",
        "        \"\"\"Get the identifying parameters.\"\"\"\n",
        "        _params = self.params or {}\n",
        "        return {\n",
        "            **{\"model\": self.model},\n",
        "            **{\"params\": _params},\n",
        "        }\n",
        "\n",
        "    @property\n",
        "    def _llm_type(self) -> str:\n",
        "        \"\"\"Return type of llm.\"\"\"\n",
        "        return \"IBM WATSONX\"\n",
        "\n",
        "    def _call(self, prompt: str, stop: Optional[List[str]] = None) -> str:\n",
        "        \"\"\"Call the WatsonX model\"\"\"\n",
        "        params = self.params or {}\n",
        "        model = Model(model_id=self.model, params=params, credentials=self.credentials, project_id=self.project_id)\n",
        "        text = model.generate_text(prompt)\n",
        "        if stop is not None:\n",
        "            text = enforce_stop_tokens(text, stop)\n",
        "        return text"
      ]
    },
    {
      "cell_type": "code",
      "execution_count": 4,
      "id": "f3abe792-7b1b-4bd0-95b2-5d6e24a78c10",
      "metadata": {
        "id": "f3abe792-7b1b-4bd0-95b2-5d6e24a78c10",
        "outputId": "1956b6ed-e793-41b1-d613-3275f5babb88",
        "colab": {
          "base_uri": "https://localhost:8080/"
        }
      },
      "outputs": [
        {
          "output_type": "stream",
          "name": "stdout",
          "text": [
            "\n",
            "Model bigscience/mt0-xxl 결과:\n",
            "서울\n",
            "\n",
            "Model meta-llama/llama-2-70b-chat 결과:\n",
            " 서울\n"
          ]
        }
      ],
      "source": [
        "##predict with the model\n",
        "\n",
        "params = {\n",
        "    GenParams.DECODING_METHOD: DecodingMethods.GREEDY,\n",
        "    GenParams.MAX_NEW_TOKENS: 5,\n",
        "    GenParams.MIN_NEW_TOKENS: 1,\n",
        "    GenParams.TEMPERATURE: 0,\n",
        "    GenParams.TOP_K: 50,\n",
        "    GenParams.TOP_P: 1\n",
        "}\n",
        "\n",
        "\n",
        "'''LangChainInterface 클래스에 모델을 실행하기 위한 래퍼 함수를 ​​추가했으므로 우리가 갖고 있는 model_id를 간단히 호출합니다.'''\n",
        "mt_model = \"bigscience/mt0-xxl\"\n",
        "llama2= \"meta-llama/llama-2-70b-chat\"\n",
        "\n",
        "#Lalu kita dapat mencoba mengajukan pertanyaan sederhana dan lihat bagaimana model memberikan respon\n",
        "model_list = [mt_model, llama2]\n",
        "text = \"대한민국의 수도는 어딘지 말해주세요? 정답:\"\n",
        "for i in model_list:\n",
        "    llm_model = LangChainInterface(model=i, credentials=creds, params=params, project_id=project_id)\n",
        "    print(f\"\\nModel {i} 결과:\")\n",
        "    print(llm_model(text))"
      ]
    },
    {
      "cell_type": "code",
      "execution_count": 5,
      "id": "1b3b1520-2206-4c15-9242-31a37b479f28",
      "metadata": {
        "id": "1b3b1520-2206-4c15-9242-31a37b479f28",
        "outputId": "dff2ebc3-1bf1-4edd-ffb6-e7a69e6cffb5",
        "colab": {
          "base_uri": "https://localhost:8080/"
        }
      },
      "outputs": [
        {
          "output_type": "stream",
          "name": "stdout",
          "text": [
            "미국의 수도는 어디입니까: = Washington\n",
            "\n",
            "영국의 수도는 어디입니까: = 런던\n",
            "\n",
            "일본의 수도는 어디입니까: = 東京\n",
            "\n",
            "사우디아라비야의 수도는 어디입니까: = 수도 드레스덴\n",
            "\n"
          ]
        }
      ],
      "source": [
        "params = {\n",
        "    GenParams.DECODING_METHOD: DecodingMethods.SAMPLE,\n",
        "    GenParams.MAX_NEW_TOKENS: 100,\n",
        "    GenParams.MIN_NEW_TOKENS: 1,\n",
        "    GenParams.TEMPERATURE: 0.5,\n",
        "    GenParams.TOP_K: 50,\n",
        "    GenParams.TOP_P: 1\n",
        "}\n",
        "\n",
        "# Define the prompt templates\n",
        "prompt = PromptTemplate(\n",
        "  input_variables=[\"country\"],\n",
        "  template= \"{country}의 수도는 어디입니까:\",\n",
        ")\n",
        "llm_model = LangChainInterface(model=mt_model, credentials=creds, params=params, project_id=project_id)\n",
        "# Chaining\n",
        "chain = LLMChain(llm=llm_model, prompt=prompt)\n",
        "\n",
        "# Getting predictions\n",
        "countries = [\"미국\", \"영국\", \"일본\", \"사우디아라비야\"]\n",
        "for country in countries:\n",
        "    response = chain.run(country)\n",
        "    print(prompt.format(country=country) + \" = \" + response)\n",
        "    print()"
      ]
    },
    {
      "cell_type": "code",
      "execution_count": 6,
      "id": "3a59d88d-b626-40b5-8eff-ae66f80dcc3c",
      "metadata": {
        "id": "3a59d88d-b626-40b5-8eff-ae66f80dcc3c",
        "outputId": "cb1720ce-a6b3-4d18-dc8b-e0baf28adea9",
        "colab": {
          "base_uri": "https://localhost:8080/",
          "height": 165
        }
      },
      "outputs": [
        {
          "output_type": "stream",
          "name": "stdout",
          "text": [
            "\n",
            "\n",
            "\u001b[1m> Entering new SimpleSequentialChain chain...\u001b[0m\n",
            "\u001b[36;1m\u001b[1;3m인간은 왜 삶을 사는 것인가?\u001b[0m\n",
            "\u001b[33;1m\u001b[1;3m生存\u001b[0m\n",
            "\n",
            "\u001b[1m> Finished chain.\u001b[0m\n"
          ]
        },
        {
          "output_type": "execute_result",
          "data": {
            "text/plain": [
              "'生存'"
            ],
            "application/vnd.google.colaboratory.intrinsic+json": {
              "type": "string"
            }
          },
          "metadata": {},
          "execution_count": 6
        }
      ],
      "source": [
        "params = {\n",
        "    GenParams.DECODING_METHOD: DecodingMethods.SAMPLE,\n",
        "    GenParams.MAX_NEW_TOKENS: 100,\n",
        "    GenParams.MIN_NEW_TOKENS: 1,\n",
        "    GenParams.TEMPERATURE: 0.5,\n",
        "    GenParams.TOP_K: 50,\n",
        "    GenParams.TOP_P: 1\n",
        "}\n",
        "\n",
        "## Create two sequential prompts\n",
        "pt1 = PromptTemplate(input_variables=[\"topic\"],\n",
        "                    template=\"{topic} 주제와 관련된 질문을 작성하세요: 질문:\")\n",
        "pt2 = PromptTemplate(input_variables=[\"question\"],\n",
        "                     template=\"다음 질문에 답하세요: {question}\"\n",
        ")\n",
        "question_model = LangChainInterface(model=mt_model, credentials=creds, params=params, project_id=project_id)\n",
        "answer_model=  LangChainInterface(model=mt_model, credentials=creds, params=params, project_id=project_id)\n",
        "\n",
        "prompt_to_question= LLMChain(llm=question_model, prompt=pt1)\n",
        "question_to_answer = LLMChain(llm=answer_model, prompt=pt2)\n",
        "qa = SimpleSequentialChain(chains=[prompt_to_question, question_to_answer], verbose=True)\n",
        "qa.run(\"삶\")"
      ]
    },
    {
      "cell_type": "code",
      "execution_count": null,
      "id": "a643015b-459d-4343-ad41-0be3a94702d3",
      "metadata": {
        "id": "a643015b-459d-4343-ad41-0be3a94702d3"
      },
      "outputs": [],
      "source": []
    },
    {
      "cell_type": "markdown",
      "id": "44208b0e-64a0-4939-a814-1830aa340247",
      "metadata": {
        "jp-MarkdownHeadingCollapsed": true,
        "id": "44208b0e-64a0-4939-a814-1830aa340247"
      },
      "source": [
        "\n",
        "#### lab 3b: LangChain을 사용한 프롬프트 템플릿 만들기 소개\n",
        "lab 3에 오신 것을 환영합니다.\n",
        "\n",
        "이전 랩에서는 프롬프트 엔지니어링의 어려움을 탐험했습니다. 어떻게 문구를 조정하고 다른 모델을 선택하며 모델 매개변수를 최적화하는지를 배워보았습니다. 작은 변경이 언어 모델이 생성하는 결과를 크게 향상시킬 수 있습니다.\n",
        "\n",
        "이번 랩에서는 실제 사례에 새로운 지식을 적용하면서 프롬프트 코딩과 관련된 모범 사례에 대해 계속 배우겠습니다. Watson Machine Learning Python SDK를 사용하여 watsonx.ai와 프로그래밍적으로 상호 작용하면서, LangChain Python 라이브러리에서 제공하는 프롬프트 템플릿 기술을 사용하여 언어 모델과의 상호 작용을 최적화하고 그 잠재력을 극대화할 것입니다.\n",
        "\n",
        "LangChain이 제공하는 프롬프트 템플릿의 개념을 사용하면 특정 정보로 쉽게 채워질 수 있는 프롬프트 템플릿을 만들 수 있습니다. 이를 통해 watsonx.ai에 제공할 수 있는 다양한 결과를 생성할 수 있습니다. 아래에서 볼 수 있듯이 퓨-샷 프롬프팅에 특화된 프롬프트 템플릿을 활용할 수도 있습니다.\n",
        "\n",
        "LangChain 프롬프트 패턴을 사용하여 Prompt Builder 프롬프트 재생성\n",
        "시나리오: XYZ 소매 회사를 위한 맞춤형 추천\n",
        "XYZ Retail은 전자제품, 의류, 가정용품 등 다양한 제품을 판매하는 인기있는 온라인 소매점입니다. 그들은 큰 고객 기반을 보유하고 고객 만족도를 높이고 매출을 증대하기 위해 맞춤형 쇼핑 경험을 제공하고자 합니다.\n",
        "\n",
        "이 목표를 달성하기 위해 XYZ는 생성적 AI를 활용하여 각 고객에 대한 팩트 시트를 작성하려고 합니다. 이러한 팩트 시트에는 고객 인구 통계 (이름, 나이, 위치) 및 구매 내역과 같은 관련 정보가 요약될 것입니다. 이러한 팩트 시트는 XYZ 소매의 영업 팀이 더 강력한 고객 관계를 구축하고 고객 만족도를 높이며 반복 구매를 촉진하는 데 도움이 될 것입니다.\n",
        "\n",
        "당신은 Prompt Lab에서 프롬프트 엔지니어링을 수행하기 시작하고 다음과 같은 초기 프롬프트로 기본 모델 출력을 테스트할 수 있습니다.\n",
        "\n",
        "![image.png](attachment:e698a2d9-ef55-4a02-8916-f75c2e4a9271.png)\n",
        "\n",
        "고객 Michael Jones의 경우 모델의 추천이 정확하지 않거나 유용하지 않습니다. 다행히 Prompt Engineering 랩에서 Few Shot Learning이 더 나은 결과를 얻는 데 도움이 될 수 있다는 것을 배웠습니다.\n",
        "\n",
        "Prompt Builder를 사용하여 몇 가지 예를 제공하면 어떻게 될까요? LLM을 유의미한 추천을 생성하도록 안내합니다.\n",
        "\n",
        "![image.png](attachment:085de7fa-ec38-42a5-8ba9-b4820a767f95.png)\n",
        "\n",
        "멋져요, Michael Jones에 대한 제품 추천이 훨씬 나아졌습니다. 그러나 XYZ Retail 모든 고객에 대한 추천을 생성하려면 few shot 프롬프팅을 어떻게 프로덕션화해야 할까요? 각 고객의 정보를 Prompt Builder에 복사하여 붙이는 것은 너무 오래 걸릴 것입니다.\n",
        "\n",
        "프로그래밍 솔루션이 필요합니다. 심지어 많은 예제를 생성한 다음 watsonx.ai에서 모델을 튜닝하는 데 사용할 수도 있을 것입니다. 그러나 이런 내용은 나중의 랩에서 프롬프트 튜닝 데이터 세트를 구축하는 방법에 대해 배우게 될 것입니다.\"\n",
        "\n",
        "\n",
        "\n",
        "\n",
        "\n",
        "\n"
      ]
    },
    {
      "cell_type": "markdown",
      "id": "d27539a1-41c3-4135-ad4b-c14005220581",
      "metadata": {
        "id": "d27539a1-41c3-4135-ad4b-c14005220581"
      },
      "source": [
        "### 1. Load the required libraries"
      ]
    },
    {
      "cell_type": "code",
      "execution_count": 7,
      "id": "58bde4c5-759b-40a8-86e9-7fab5721d68d",
      "metadata": {
        "id": "58bde4c5-759b-40a8-86e9-7fab5721d68d"
      },
      "outputs": [],
      "source": [
        "import os\n",
        "\n",
        "from dotenv import load_dotenv\n",
        "import pandas as pd\n",
        "from langchain import PromptTemplate, FewShotPromptTemplate\n",
        "from ibm_watson_machine_learning.foundation_models import Model\n",
        "from ibm_watson_machine_learning.metanames import GenTextParamsMetaNames as GenParams"
      ]
    },
    {
      "cell_type": "markdown",
      "id": "7352cf2e-11e9-41fd-8c40-764b949978c4",
      "metadata": {
        "id": "7352cf2e-11e9-41fd-8c40-764b949978c4"
      },
      "source": [
        "### 2. 각 고객에 대한 팩트시트 작성하기 - 프롬프트 패턴 사용\n",
        "2.1 프롬프트 템플릿이란 무엇인가요?\n",
        "LangChain Python 라이브러리의 PromptTemplate 클래스는 구조화된 템플릿에서 프롬프트를 만들기 위한 유연한 방법을 제공합니다. 우리는 PromptTemplate 클래스를 사용하여 XYZ Retail의 few shot 프롬프트를 간단히 만들 것입니다.\n",
        "\n",
        "XYZ Retail은 고객 데이터를 .csv 형식으로 제공했습니다. 각 고객에 대한 프롬프트를 생성하려면 Prompt Builder에서 엔지니어링한 프롬프트를 보다 유용한 프로그래밍 형식으로 변환해야 합니다. PromptTemplate 클래스를 사용하면 고객 데이터를 쉽게 대체하여 하나 이상의 프롬프트를 생성할 수 있습니다.\n",
        "\n",
        "PromptTemplate 클래스는 대체할 변수가 중괄호 내에 위치하는 스키마를 정의합니다. Python 용어로는 그저 하드코딩된 \"f-strings\"를 사용하는 것입니다. 이러한 중괄호는 실제 데이터를 템플릿에 대체할 자리 표시자로 작용합니다.\n",
        "\n",
        "이것이 실제로 어떻게 동작하는지 살펴보겠습니다.\n",
        "\n",
        "#### 2.2 템플릿에서 간단한 프롬프트 생성\n",
        "프롬프트 템플릿은 PromptTemplate 클래스를 사용하여 문자열이나 .txt 파일에서 생성할 수 있습니다. LangChain 문서에는 추가적인 PromptTemplate 예제가 제공됩니다.\n",
        "\n",
        "#### 2.2.1 문자열에서 프롬프트 템플릿 만들기"
      ]
    },
    {
      "cell_type": "code",
      "execution_count": 8,
      "id": "7a35dad6-9244-4378-b79e-990acb276c9e",
      "metadata": {
        "id": "7a35dad6-9244-4378-b79e-990acb276c9e",
        "outputId": "0f94500d-be1f-425e-bfab-0af54034be80",
        "colab": {
          "base_uri": "https://localhost:8080/",
          "height": 35
        }
      },
      "outputs": [
        {
          "output_type": "execute_result",
          "data": {
            "text/plain": [
              "'input: {name} {family_name} 은 {age} 살 입니다. 사는곳은 {location}. 그는 {purchase_history}을 샀습니다.'"
            ],
            "application/vnd.google.colaboratory.intrinsic+json": {
              "type": "string"
            }
          },
          "metadata": {},
          "execution_count": 8
        }
      ],
      "source": [
        "\n",
        "# template is a string with variable names in curly brackets\n",
        "pattern = \"input: {name} {family_name} 은 {age} 살 입니다. 사는곳은 {location}. 그는 {purchase_history}을 샀습니다.\"\n",
        "\n",
        "# generate template\n",
        "prompt_template = PromptTemplate.from_template(pattern)\n",
        "prompt_template.template"
      ]
    },
    {
      "cell_type": "code",
      "execution_count": 9,
      "id": "844bb28b-6318-4184-b1da-30ccb8425bed",
      "metadata": {
        "id": "844bb28b-6318-4184-b1da-30ccb8425bed",
        "outputId": "83cf3926-e33f-4d15-c2f4-df43cf9f412c",
        "colab": {
          "base_uri": "https://localhost:8080/",
          "height": 35
        }
      },
      "outputs": [
        {
          "output_type": "execute_result",
          "data": {
            "text/plain": [
              "'input: 유진 김 은 34 살 입니다. 사는곳은 용인시 수지구. 그는 식료품, 가정용품, 생필품을 샀습니다.'"
            ],
            "application/vnd.google.colaboratory.intrinsic+json": {
              "type": "string"
            }
          },
          "metadata": {},
          "execution_count": 9
        }
      ],
      "source": [
        "# now let's provide some values and generate our prompt\n",
        "# notice how the variables coincide with those we specified in curly brackets\n",
        "prompt = prompt_template.format(name=\"유진\",\n",
        "                                family_name=\"김\",\n",
        "                                age=34,\n",
        "                                location=\"용인시 수지구\",\n",
        "                                purchase_history = \"식료품, 가정용품, 생필품\")\n",
        "\n",
        "prompt\n"
      ]
    },
    {
      "cell_type": "markdown",
      "id": "091fd8d9-58aa-4cda-aa13-7390687635cf",
      "metadata": {
        "id": "091fd8d9-58aa-4cda-aa13-7390687635cf"
      },
      "source": [
        "#### 2.2.2 텍스트 파일에서 프롬프트 템플릿\n",
        "\n",
        "프롬프트 패턴은 텍스트 파일로 저장할 수도 있습니다.\n",
        "\n",
        "\n",
        "\n",
        "\n",
        "\n"
      ]
    },
    {
      "cell_type": "code",
      "execution_count": 24,
      "id": "373a5eb0-6bcb-49ef-ac14-50d305dbcfec",
      "metadata": {
        "id": "373a5eb0-6bcb-49ef-ac14-50d305dbcfec"
      },
      "outputs": [],
      "source": [
        "#_path_to_file2 = open(\"./template/customer_factsheet_lang.txt\",'r', encoding='UTF-8')\n",
        "#print(_path_to_file2)"
      ]
    },
    {
      "cell_type": "code",
      "execution_count": 10,
      "id": "f646a3dc-2888-488b-8cfe-796e949b0919",
      "metadata": {
        "id": "f646a3dc-2888-488b-8cfe-796e949b0919",
        "outputId": "fd285b73-318c-4c3b-cf29-c7de46a223d1",
        "colab": {
          "base_uri": "https://localhost:8080/"
        }
      },
      "outputs": [
        {
          "output_type": "stream",
          "name": "stdout",
          "text": [
            "input: {name} {family_name} 은 {age}살 입니다. 그리고 {city}에 거주합니다. 그는 {purchase_history}을(를) 샀습니다.\n",
            "output: Recommendations: Item 1: {recommendation_1} Item 2: {recommendation_2}\n"
          ]
        }
      ],
      "source": [
        "\n",
        "# We create a template from a file:\n",
        "\n",
        "# _path_to_file = \"./template/customer_factsheet_lang.txt\"\n",
        "\n",
        "_path_to_file = \"/content/drive/MyDrive/customer_factsheet_lang.txt\"\n",
        "\n",
        "\n",
        "# this time we provide the variable names in a list\n",
        "example_prompt = PromptTemplate.from_file(_path_to_file,\n",
        "                                input_variables=[\"name\", \"family_name\", \"age\",\"city\",\n",
        "                                                 \"purchase_history\", \"recommendation_1\", \"recommendation_2\"])\n",
        "\n",
        "print(example_prompt.template)"
      ]
    },
    {
      "cell_type": "markdown",
      "id": "64ebdaa7-1f63-4d2a-b478-f3ccc4620031",
      "metadata": {
        "id": "64ebdaa7-1f63-4d2a-b478-f3ccc4620031"
      },
      "source": [
        "#### 2.1 처럼 이 템플릿을 입력 변수의 값이 들어 있는 딕셔너리에서 채울 수 있습니다."
      ]
    },
    {
      "cell_type": "code",
      "execution_count": 11,
      "id": "0eebef7d-f4bf-4d92-899e-c3c40e3a2cac",
      "metadata": {
        "id": "0eebef7d-f4bf-4d92-899e-c3c40e3a2cac"
      },
      "outputs": [],
      "source": [
        "examples = [\n",
        "    {\n",
        "        \"name\": \"상식\",\n",
        "        \"family_name\": \"박\",\n",
        "        \"age\": 43,\n",
        "        \"city\": \"샌프란시스코\",\n",
        "        \"purchase_history\": \"식료품, 생활용품 및 여행 용품\",\n",
        "        \"recommendation_1\": \"유기농 과일 바구니\",\n",
        "        \"recommendation_2\": \"경량 캐리어\"\n",
        "    },\n",
        "    {\n",
        "        \"name\": \"민희\",\n",
        "        \"family_name\": \"김\",\n",
        "        \"age\": 57,\n",
        "        \"city\": \"시카고\",\n",
        "        \"purchase_history\": \"도서, 전자제품, 가정용품\",\n",
        "        \"recommendation_1\": \"Kindle Paperwhite - 이 전자 책 리더는 수천 권의 책을 저장할 수 있는 가벼우면서 휴대 가능한 장치를 원하는 도서 애호가를 위한 것입니다. 눈부림이 없는 디스플레이와 긴 배터리 수명이 특징이며 전원이 바닥나는 걱정 없이 몇 시간 동안 읽을 수 있습니다.\",\n",
        "        \"recommendation_2\": \"Google Home Mini - 이 스마트 스피커는 음성으로 집의 스마트 기기를 제어하기에 완벽합니다. 음악 재생, 알람 설정, 뉴스 받아보기 등 다양한 용도로 사용할 수 있습니다. 또한 친구와 가족과 연결되는 좋은 방법입니다.\"\n",
        "    },\n",
        "    {\n",
        "        \"name\": \"은정\",\n",
        "        \"family_name\": \"박\",\n",
        "        \"age\": 21,\n",
        "        \"city\": \"뉴욕 시티\",\n",
        "        \"purchase_history\": \"의류, 신발, 화장품\",\n",
        "        \"recommendation_1\": \"Aritzia Wilfred Free Sweater - 이 부드럽고 아늑한 스웨터는 캐주얼한 외출에 완벽합니다. 다양한 색상으로 제공되어 스타일에 맞는 완벽한 색상을 찾을 수 있습니다.\",\n",
        "        \"recommendation_2\": \"Steve Madden Pointed Toe Pumps - 이 세련된 펌프는 도시에서의 야외 약속에 완벽합니다. 편안하고 다양한 의상에 매치할 수 있어 다양한 의상에 착용할 수 있습니다.\"\n",
        "    }\n",
        "]"
      ]
    },
    {
      "cell_type": "code",
      "execution_count": 12,
      "id": "0d48a11f-9e1c-4e34-8ca5-4457950d337c",
      "metadata": {
        "id": "0d48a11f-9e1c-4e34-8ca5-4457950d337c",
        "outputId": "271ca99e-5f08-47ec-9035-6f1519d87171",
        "colab": {
          "base_uri": "https://localhost:8080/"
        }
      },
      "outputs": [
        {
          "output_type": "stream",
          "name": "stdout",
          "text": [
            "input: 상식 박 은 43살 입니다. 그리고 샌프란시스코에 거주합니다. 그는 식료품, 생활용품 및 여행 용품을(를) 샀습니다.\n",
            "output: Recommendations: Item 1: 유기농 과일 바구니 Item 2: 경량 캐리어\n",
            "input: 민희 김 은 57살 입니다. 그리고 시카고에 거주합니다. 그는 도서, 전자제품, 가정용품을(를) 샀습니다.\n",
            "output: Recommendations: Item 1: Kindle Paperwhite - 이 전자 책 리더는 수천 권의 책을 저장할 수 있는 가벼우면서 휴대 가능한 장치를 원하는 도서 애호가를 위한 것입니다. 눈부림이 없는 디스플레이와 긴 배터리 수명이 특징이며 전원이 바닥나는 걱정 없이 몇 시간 동안 읽을 수 있습니다. Item 2: Google Home Mini - 이 스마트 스피커는 음성으로 집의 스마트 기기를 제어하기에 완벽합니다. 음악 재생, 알람 설정, 뉴스 받아보기 등 다양한 용도로 사용할 수 있습니다. 또한 친구와 가족과 연결되는 좋은 방법입니다.\n",
            "input: 은정 박 은 21살 입니다. 그리고 뉴욕 시티에 거주합니다. 그는 의류, 신발, 화장품을(를) 샀습니다.\n",
            "output: Recommendations: Item 1: Aritzia Wilfred Free Sweater - 이 부드럽고 아늑한 스웨터는 캐주얼한 외출에 완벽합니다. 다양한 색상으로 제공되어 스타일에 맞는 완벽한 색상을 찾을 수 있습니다. Item 2: Steve Madden Pointed Toe Pumps - 이 세련된 펌프는 도시에서의 야외 약속에 완벽합니다. 편안하고 다양한 의상에 매치할 수 있어 다양한 의상에 착용할 수 있습니다.\n"
          ]
        }
      ],
      "source": [
        "for example in examples:\n",
        "    print(example_prompt.format(**example))"
      ]
    },
    {
      "cell_type": "code",
      "source": [
        "examples[0].copy()"
      ],
      "metadata": {
        "id": "GJhRANOMpI1m",
        "outputId": "3a086c1b-55dd-4de3-abd1-394289d48d96",
        "colab": {
          "base_uri": "https://localhost:8080/"
        }
      },
      "id": "GJhRANOMpI1m",
      "execution_count": 17,
      "outputs": [
        {
          "output_type": "execute_result",
          "data": {
            "text/plain": [
              "{'name': '상식',\n",
              " 'family_name': '박',\n",
              " 'age': 43,\n",
              " 'city': '샌프란시스코',\n",
              " 'purchase_history': '식료품, 생활용품 및 여행 용품',\n",
              " 'recommendation_1': '유기농 과일 바구니',\n",
              " 'recommendation_2': '경량 캐리어'}"
            ]
          },
          "metadata": {},
          "execution_count": 17
        }
      ]
    },
    {
      "cell_type": "markdown",
      "id": "b40bb8dd-c015-43f3-9d26-38b7aa2d473e",
      "metadata": {
        "id": "b40bb8dd-c015-43f3-9d26-38b7aa2d473e"
      },
      "source": [
        "### 3. 고객 요약서를 기반으로 프롬프트 예시 생성\n",
        "PromptTemplate의 가치는 엔지니어링된 프롬프트의 대량 평가용 예시 또는 튜닝 데이터셋을 생성할 때 많은 프롬프트를 생성할 때 나타납니다.\n",
        "\n",
        "#### 3.1 FewShot 프롬프트 생성\n",
        "우리는 FewShotPromptTemplate 객체를 생성하여 시작할 것입니다. 이 클래스는 PromptTemplate의 몇 번의 반복으로 구성된 프롬프트를 만들 수 있게 해줍니다. 자세한 내용은 FewShotPromptTemplate 클래스 문서에서 확인할 수 있습니다.\n",
        "\n",
        "\n",
        "\n",
        "\n"
      ]
    },
    {
      "cell_type": "code",
      "execution_count": 20,
      "id": "d74b48f5-8e37-4e6a-9d2a-092ed5d01f71",
      "metadata": {
        "id": "d74b48f5-8e37-4e6a-9d2a-092ed5d01f71",
        "outputId": "2dca32ec-c0ac-490d-828f-769a5d62da67",
        "colab": {
          "base_uri": "https://localhost:8080/"
        }
      },
      "outputs": [
        {
          "output_type": "stream",
          "name": "stdout",
          "text": [
            "input: 상식 박 은 43살 입니다. 그리고 샌프란시스코에 거주합니다. 그는 식료품, 생활용품 및 여행 용품을(를) 샀습니다.\n",
            "output: Recommendations: Item 1: 유기농 과일 바구니 Item 2: 경량 캐리어\n",
            "\n",
            "input: 민희 김 은 57살 입니다. 그리고 시카고에 거주합니다. 그는 도서, 전자제품, 가정용품을(를) 샀습니다.\n",
            "output: Recommendations: Item 1: Kindle Paperwhite - 이 전자 책 리더는 수천 권의 책을 저장할 수 있는 가벼우면서 휴대 가능한 장치를 원하는 도서 애호가를 위한 것입니다. 눈부림이 없는 디스플레이와 긴 배터리 수명이 특징이며 전원이 바닥나는 걱정 없이 몇 시간 동안 읽을 수 있습니다. Item 2: Google Home Mini - 이 스마트 스피커는 음성으로 집의 스마트 기기를 제어하기에 완벽합니다. 음악 재생, 알람 설정, 뉴스 받아보기 등 다양한 용도로 사용할 수 있습니다. 또한 친구와 가족과 연결되는 좋은 방법입니다.\n",
            "\n",
            "input: \"은정 박 은 21살 입니다. 그리고 뉴욕 시티에 거주합니다. 그는 의류, 신발, 화장품을(를) 샀습니다.\"\n",
            "output: \n"
          ]
        }
      ],
      "source": [
        "# Next step create a few shot prompt template\n",
        "\n",
        "few_shot_examples = examples[:2]\n",
        "few_shot_input = examples[2].copy()\n",
        "del few_shot_input['recommendation_1']\n",
        "del few_shot_input['recommendation_2']\n",
        "\n",
        "def make_few_shot_prompt(few_shot_examples, few_shot_input):\n",
        "    \"\"\"\n",
        "    Generate a few-shot prompt using the FewShotPromptTemplate class.\n",
        "\n",
        "    Parameters:\n",
        "    - few_shot_examples: List of examples to be shown as few-shot examples.\n",
        "    - few_shot_input: Input for which the prompt will be generated.\n",
        "\n",
        "    Returns:\n",
        "    - A string representing the formatted few-shot prompt.\n",
        "    \"\"\"\n",
        "    prompt = FewShotPromptTemplate(\n",
        "        examples=few_shot_examples,\n",
        "        example_prompt=example_prompt,\n",
        "        suffix='input: \"{name} {family_name} 은 {age}살 입니다. 그리고 {city}에 거주합니다. 그는 {purchase_history}을(를) 샀습니다.\"\\noutput: ',\n",
        "        input_variables=[\"name\", \"family_name\", \"age\", \"city\", \"purchase_history\"]\n",
        "    )\n",
        "    # Return the formatted prompt using the provided input data\n",
        "    return prompt.format(**few_shot_input)\n",
        "\n",
        "\n",
        "few_shot_prompt = make_few_shot_prompt(few_shot_examples, few_shot_input)\n",
        "print(few_shot_prompt)"
      ]
    },
    {
      "cell_type": "markdown",
      "id": "21e69e29-8547-445e-89da-871b57505cad",
      "metadata": {
        "id": "21e69e29-8547-445e-89da-871b57505cad"
      },
      "source": [
        "#### 3.2 프롬프트 대량 생성\n",
        "FewShotPromptTemplate 클래스를 사용하여 이제 노트북에서 직접 추출한 값으로 반복적으로 채워진 few shot 프롬프트 목록을 생성하는 함수를 만들 수 있습니다.\n",
        "\n",
        "한 few shot 프롬프트에 몇 개의 단일 프롬프트를 포함할지 선택할 수 있습니다. 함수의 출력은 few shot 프롬프트의 목록입니다.\n"
      ]
    },
    {
      "cell_type": "code",
      "execution_count": 21,
      "id": "0ca01e48-c503-47ba-b31c-828690a58cc6",
      "metadata": {
        "id": "0ca01e48-c503-47ba-b31c-828690a58cc6"
      },
      "outputs": [],
      "source": [
        "# Specify the path to the CSV file containing the data\n",
        "# csv_file_path = \"./sample_data/customer_factsheet.csv\"\n",
        "\n",
        "csv_file_path = \"/content/drive/MyDrive/customer_factsheet.csv\"\n",
        "\n",
        "def sub_all_from_csv(csv_file_path, n_prompt_examples=2):\n",
        "    \"\"\"\n",
        "    Generates a list of few-shot prompts using the FewShotPromptTemplate class.\n",
        "    The prompts are populated iteratively from values extracted from a CSV file.\n",
        "\n",
        "    Parameters:\n",
        "    - csv_file_path: The path to the CSV file.\n",
        "    - n_prompt_examples: The number of examples included in one few-shot prompt.\n",
        "\n",
        "    Returns:\n",
        "    - list_of_prompts: A list of few-shot prompts.\n",
        "    \"\"\"\n",
        "\n",
        "    df = pd.read_csv(csv_file_path)\n",
        "    examples = [example for _, example in df.transpose().to_dict().items()]\n",
        "    i=0\n",
        "    list_of_prompts = []\n",
        "\n",
        "    while i < len(df):\n",
        "        few_shot_examples = examples[i:i+n_prompt_examples]\n",
        "        few_shot_input = examples[i+n_prompt_examples].copy()\n",
        "        del few_shot_input['recommendation_1']\n",
        "        del few_shot_input['recommendation_2']\n",
        "\n",
        "        list_of_prompts.append(make_few_shot_prompt(few_shot_examples, few_shot_input))\n",
        "\n",
        "        i = i+n_prompt_examples +1\n",
        "\n",
        "    # Return the list of few-shot prompts\n",
        "    return list_of_prompts"
      ]
    },
    {
      "cell_type": "code",
      "execution_count": 22,
      "id": "50093338-eab8-4813-b5be-b9f58f41b09c",
      "metadata": {
        "id": "50093338-eab8-4813-b5be-b9f58f41b09c",
        "outputId": "53970ed1-b090-4587-c906-58fa8eb6f96c",
        "colab": {
          "base_uri": "https://localhost:8080/"
        }
      },
      "outputs": [
        {
          "output_type": "stream",
          "name": "stdout",
          "text": [
            "input: 유진 김 은 30살 입니다. 그리고 용인에 거주합니다. 그는 도서, 전자제품, 가정용품을(를) 샀습니다.\n",
            "output: Recommendations: Item 1: Kindle Paperwhite - 이 전자 책 리더는 수천 권의 책을 저장할 수 있는 가벼우면서 휴대 가능한 장치를 원하는 도서 애호가를 위한 것입니다. 눈부림이 없는 디스플레이와 긴 배터리 수명이 특징이며 전원이 바닥나는 걱정 없이 몇 시간 동안 읽을 수 있습니다. Item 2: Google Home Mini - 이 스마트 스피커는 음성으로 집의 스마트 기기를 제어하기에 완벽합니다. 음악 재생, 알람 설정, 뉴스 받아보기 등 다양한 용도로 사용할 수 있습니다. 또한 친구와 가족과 연결되는 좋은 방법입니다.\n",
            "\n",
            "input: 용국 \b방 은 25살 입니다. 그리고 \b진주에 거주합니다. 그는 의류, 신발, 화장품을(를) 샀습니다.\n",
            "output: Recommendations: Item 1: Aritzia Wilfred Free Sweater - 이 부드럽고 아늑한 스웨터는 캐주얼한 외출에 완벽합니다. 다양한 색상으로 제공되어 스타일에 맞는 완벽한 색상을 찾을 수 있습니다. Item 2: Steve Madden Pointed Toe Pumps - 이 세련된 펌프는 도시에서의 야외 약속에 완벽합니다. 편안하고 다양한 의상에 매치할 수 있어 다양한 의상에 착용할 수 있습니다.\n",
            "\n",
            "input: \"찬영 강 은 40살 입니다. 그리고 전주에 거주합니다. 그는 장난감, 게임, 스포츠용품을(를) 샀습니다.\"\n",
            "output: \n"
          ]
        }
      ],
      "source": [
        "list_of_prompts = sub_all_from_csv(csv_file_path)\n",
        "print(list_of_prompts[0])"
      ]
    },
    {
      "cell_type": "code",
      "execution_count": 40,
      "id": "07e98455-05e0-489a-b99a-0b381fc60dee",
      "metadata": {
        "id": "07e98455-05e0-489a-b99a-0b381fc60dee",
        "outputId": "ff84f1e6-4496-43f9-b2fb-68392acdcd25",
        "colab": {
          "base_uri": "https://localhost:8080/",
          "height": 72
        }
      },
      "outputs": [
        {
          "output_type": "execute_result",
          "data": {
            "text/plain": [
              "'input: 환 곽 은 35살 입니다. 그리고 강릉에 거주합니다. 그는 전자제품, 가정 개선, 스포츠용품을(를) 샀습니다.\\noutput: Recommendations: Item 1: 무선 헤드폰 Item 2: 전동 공구\\n\\ninput: \\x08현태 김 은 45살 입니다. 그리고 목포에 거주합니다. 그는 도서, 음악, 영화을(를) 샀습니다.\\noutput: Recommendations: Item 1: 베스트셀러 소설 Item 2: 비닐 레코드\\n\\ninput: \"기연 전 은 55살 입니다. 그리고 안산에 거주합니다. 그는 가구, 가전제품, 가정용품을(를) 샀습니다.\"\\noutput: '"
            ],
            "application/vnd.google.colaboratory.intrinsic+json": {
              "type": "string"
            }
          },
          "metadata": {},
          "execution_count": 40
        }
      ],
      "source": [
        "list_of_prompts[2]"
      ]
    },
    {
      "cell_type": "markdown",
      "id": "8b0d16bb-8c97-4c82-95d0-d72bcabe3527",
      "metadata": {
        "id": "8b0d16bb-8c97-4c82-95d0-d72bcabe3527"
      },
      "source": [
        "#### 3.2 추가 예시\n",
        "PromptTemplate을 사용하여 추가 예시를 탐색할 수 있습니다.\n",
        "\n",
        "### 4. 프롬프트 평가 및 대량 생성된 프롬프트로부터의 퓨 샷 러닝\n",
        "이전 예제에서 \"2 샷 러닝\" 프롬프트를 생성했습니다. 즉, 세 개의 입력이 있지만 두 개의 완전한 출력만 있었습니다. 이 방법으로 더 큰 데이터셋을 사용하면 프롬프트를 대량으로 테스트할 수 있습니다.\n",
        "\n",
        "예를 들어 데이터 샘플 중 두 개는 훈련에 사용되고 3번째의 \"출력\"은 모델 출력과 비교하여 프롬프트가 예상대로 작동하는지 확인할 수 있습니다. 이제 이러한 퓨 샷 프롬프트를 실행하여 엔지니어링된 프롬프트가 다양한 예제에서 얼마나 잘 작동하는지 확인할 수 있습니다.\n",
        "\n",
        "#### 4.1 Watsonx.ai 액세스 자격 증명 가져오기 및 모델 로드\n",
        "이전에 생성한 .env 파일을 이 노트북과 동일한 디렉토리로 복사했는지 확인하세요."
      ]
    },
    {
      "cell_type": "code",
      "execution_count": 23,
      "id": "f9569f5f-64f8-4dcb-9471-e89f8cdef7ec",
      "metadata": {
        "id": "f9569f5f-64f8-4dcb-9471-e89f8cdef7ec"
      },
      "outputs": [],
      "source": [
        "'''\n",
        "load_dotenv()\n",
        "api_key = os.getenv(\"API_KEY\", None)\n",
        "ibm_cloud_url = os.getenv(\"IBM_CLOUD_URL\", 'https://us-south.ml.cloud.ibm.com')\n",
        "project_id = os.getenv(\"PROJECT_ID\", None)\n",
        "if api_key is None or ibm_cloud_url is None or project_id is None:\n",
        "    print(\"Ensure you copied the .env file that you created earlier into the same directory as this notebook\")\n",
        "else:\n",
        "    creds = {\n",
        "        \"url\": ibm_cloud_url,\n",
        "        \"apikey\": api_key\n",
        "    }\n",
        "'''\n",
        "\n",
        "api_key = \"Mhzsj6t8h8ASVevnMp2eoyvqDmoFqyCUFJNyGiKbXt9-\"\n",
        "ibm_cloud_url = \"https://us-south.ml.cloud.ibm.com\"\n",
        "project_id = \"8228f242-6a2e-4ef3-ad98-157d4f7e831a\"\n",
        "\n",
        "creds = {\n",
        "        \"url\": ibm_cloud_url,\n",
        "        \"apikey\": api_key\n",
        "}\n",
        "\n",
        "model_params = {\n",
        "    GenParams.DECODING_METHOD: \"greedy\",\n",
        "    GenParams.MIN_NEW_TOKENS: 50,\n",
        "    GenParams.MAX_NEW_TOKENS: 200,\n",
        "    GenParams.STOP_SEQUENCES: [\"\\n\\n\"]\n",
        "}\n",
        "\n",
        "# Instantiate a model proxy object to send your requests\n",
        "model = Model(\n",
        "    model_id='meta-llama/llama-2-70b-chat',\n",
        "    params=model_params,\n",
        "    credentials=creds,\n",
        "    project_id=project_id)\n"
      ]
    },
    {
      "cell_type": "code",
      "execution_count": 24,
      "id": "13894c90-dd6e-4c39-b8eb-25ee32494b93",
      "metadata": {
        "id": "13894c90-dd6e-4c39-b8eb-25ee32494b93",
        "outputId": "cc261979-01a5-4cbc-9a8b-9d5f0eefe212",
        "colab": {
          "base_uri": "https://localhost:8080/",
          "height": 258
        }
      },
      "outputs": [
        {
          "output_type": "error",
          "ename": "IndexError",
          "evalue": "ignored",
          "traceback": [
            "\u001b[0;31m---------------------------------------------------------------------------\u001b[0m",
            "\u001b[0;31mIndexError\u001b[0m                                Traceback (most recent call last)",
            "\u001b[0;32m<ipython-input-24-37df8fb06f45>\u001b[0m in \u001b[0;36m<cell line: 2>\u001b[0;34m()\u001b[0m\n\u001b[1;32m      2\u001b[0m \u001b[0;32mfor\u001b[0m \u001b[0mi\u001b[0m\u001b[0;34m,\u001b[0m \u001b[0mresponse\u001b[0m \u001b[0;32min\u001b[0m \u001b[0menumerate\u001b[0m\u001b[0;34m(\u001b[0m\u001b[0mresponses\u001b[0m\u001b[0;34m)\u001b[0m\u001b[0;34m:\u001b[0m\u001b[0;34m\u001b[0m\u001b[0;34m\u001b[0m\u001b[0m\n\u001b[1;32m      3\u001b[0m     \u001b[0mlines\u001b[0m \u001b[0;34m=\u001b[0m \u001b[0mstr\u001b[0m\u001b[0;34m(\u001b[0m\u001b[0mlist_of_prompts\u001b[0m\u001b[0;34m[\u001b[0m\u001b[0mi\u001b[0m\u001b[0;34m]\u001b[0m\u001b[0;34m)\u001b[0m\u001b[0;34m.\u001b[0m\u001b[0mstrip\u001b[0m\u001b[0;34m(\u001b[0m\u001b[0;34m)\u001b[0m\u001b[0;34m.\u001b[0m\u001b[0msplit\u001b[0m\u001b[0;34m(\u001b[0m\u001b[0;34m\"\\n\"\u001b[0m\u001b[0;34m)\u001b[0m\u001b[0;34m\u001b[0m\u001b[0;34m\u001b[0m\u001b[0m\n\u001b[0;32m----> 4\u001b[0;31m     \u001b[0muser_description\u001b[0m \u001b[0;34m=\u001b[0m \u001b[0mstr\u001b[0m\u001b[0;34m(\u001b[0m\u001b[0mlines\u001b[0m\u001b[0;34m[\u001b[0m\u001b[0;36m8\u001b[0m\u001b[0;34m]\u001b[0m\u001b[0;34m)\u001b[0m\u001b[0;34m\u001b[0m\u001b[0;34m\u001b[0m\u001b[0m\n\u001b[0m\u001b[1;32m      5\u001b[0m     \u001b[0mprint\u001b[0m\u001b[0;34m(\u001b[0m\u001b[0;34mf\"\\n{user_description}\"\u001b[0m\u001b[0;34m)\u001b[0m\u001b[0;34m\u001b[0m\u001b[0;34m\u001b[0m\u001b[0m\n\u001b[1;32m      6\u001b[0m     \u001b[0mprint\u001b[0m\u001b[0;34m(\u001b[0m\u001b[0;34mf\"\\noutput: {response}\"\u001b[0m\u001b[0;34m)\u001b[0m\u001b[0;34m\u001b[0m\u001b[0;34m\u001b[0m\u001b[0m\n",
            "\u001b[0;31mIndexError\u001b[0m: list index out of range"
          ]
        }
      ],
      "source": [
        "responses = [model.generate_text(prompt) for prompt in list_of_prompts]\n",
        "for i, response in enumerate(responses):\n",
        "    lines = str(list_of_prompts[i]).strip().split(\"\\n\")\n",
        "    user_description = str(lines[8])\n",
        "    print(f\"\\n{user_description}\")\n",
        "    print(f\"\\noutput: {response}\")\n",
        "    print(\"---------------------\")"
      ]
    },
    {
      "cell_type": "markdown",
      "id": "4b6ab360-a9b7-4c11-adf0-ad2b499f1ad3",
      "metadata": {
        "id": "4b6ab360-a9b7-4c11-adf0-ad2b499f1ad3"
      },
      "source": [
        "### 퓨 샷 프롬프트 분석\n",
        "이러한 결과는 나쁘지 않습니다. 장난감과 게임을 많이 구매한 고객에 대한 전자제품 추천, 마찬가지로 다른 두 명의 고객에 대해서는 화장품 및 가구가 구매 이력을 정확하게 반영하고 있습니다.\n",
        "\n",
        "모델은 제품에 대한 자세한 설명 대신 더 많은 추천 항목을 추가하는 경우도 있습니다. 이러한 추가 항목은 추가 항목에 대한 훈련 데이터가 없으므로 정확하지 않습니다.\n",
        "\n",
        "앞부분에 지시사항을 추가하는 것도 도움이 될 것으로 보입니다. 이것은 여러분이 시도해볼 연습이 될 것입니다.\n",
        "\n"
      ]
    },
    {
      "cell_type": "markdown",
      "id": "ee79bab5-201e-471a-943f-b9870fca5b5f",
      "metadata": {
        "id": "ee79bab5-201e-471a-943f-b9870fca5b5f"
      },
      "source": [
        "#### 4.3 Additional Technique on Few Shot Prompt Analysis"
      ]
    },
    {
      "cell_type": "code",
      "execution_count": 25,
      "id": "e71bebc6-6804-426c-8fd0-d5e501eabc17",
      "metadata": {
        "id": "e71bebc6-6804-426c-8fd0-d5e501eabc17",
        "outputId": "cc56854a-34b4-4e4d-e9ce-56ec017a12f8",
        "colab": {
          "base_uri": "https://localhost:8080/",
          "height": 436
        }
      },
      "outputs": [
        {
          "output_type": "execute_result",
          "data": {
            "text/plain": [
              "  name family_name  age city    purchase_history  \\\n",
              "0   유진           김   30   용인      도서, 전자제품, 가정용품   \n",
              "1   용국          \b방   25  \b진주         의류, 신발, 화장품   \n",
              "2   찬영           강   40   전주      장난감, 게임, 스포츠용품   \n",
              "3   지용           권   50   부산      가구, 가전제품, 가정용품   \n",
              "4   은지           김   60   포항     식료품, 생활용품, 여행용품   \n",
              "5   준엽           김   20   양양       화장품, 스킨케어, 패션   \n",
              "6    환           곽   35   강릉  전자제품, 가정 개선, 스포츠용품   \n",
              "7  \b현태           김   45   목포          도서, 음악, 영화   \n",
              "8   기연           전   55   안산      가구, 가전제품, 가정용품   \n",
              "\n",
              "                                    recommendation_1  \\\n",
              "0  Kindle Paperwhite - 이 전자 책 리더는 수천 권의 책을 저장할 수 ...   \n",
              "1  Aritzia Wilfred Free Sweater - 이 부드럽고 아늑한 스웨터는...   \n",
              "2  IKEA Ektorp Sofa - 이 편안하고 세련된 소파는 긴 하루 끝에 휴식하기...   \n",
              "3  IKEA KALLAX Shelving Unit - 이 다용도 선반 유닛은 책, 게임...   \n",
              "4                                         유기농 과일 바구니   \n",
              "5                                           메이크업 팔레트   \n",
              "6                                             무선 헤드폰   \n",
              "7                                           베스트셀러 소설   \n",
              "8                                              고급 의자   \n",
              "\n",
              "                                    recommendation_2  \n",
              "0  Google Home Mini - 이 스마트 스피커는 음성으로 집의 스마트 기기를 ...  \n",
              "1  Steve Madden Pointed Toe Pumps - 이 세련된 펌프는 도시에...  \n",
              "2  Samsung 4K Smart TV - 이 고화질 TV는 영화, TV 프로그램 시청...  \n",
              "3  LG WM3900HWA 세탁기 및 건조기 세트 - 이 세탁기 및 건조기 세트는 에너...  \n",
              "4                                             경량 캐리어  \n",
              "5                                            패션 액세서리  \n",
              "6                                              전동 공구  \n",
              "7                                             비닐 레코드  \n",
              "8                                           홈 데코 아이템  "
            ],
            "text/html": [
              "\n",
              "  <div id=\"df-8417c06d-cafe-475f-a8b0-daa8315247c5\" class=\"colab-df-container\">\n",
              "    <div>\n",
              "<style scoped>\n",
              "    .dataframe tbody tr th:only-of-type {\n",
              "        vertical-align: middle;\n",
              "    }\n",
              "\n",
              "    .dataframe tbody tr th {\n",
              "        vertical-align: top;\n",
              "    }\n",
              "\n",
              "    .dataframe thead th {\n",
              "        text-align: right;\n",
              "    }\n",
              "</style>\n",
              "<table border=\"1\" class=\"dataframe\">\n",
              "  <thead>\n",
              "    <tr style=\"text-align: right;\">\n",
              "      <th></th>\n",
              "      <th>name</th>\n",
              "      <th>family_name</th>\n",
              "      <th>age</th>\n",
              "      <th>city</th>\n",
              "      <th>purchase_history</th>\n",
              "      <th>recommendation_1</th>\n",
              "      <th>recommendation_2</th>\n",
              "    </tr>\n",
              "  </thead>\n",
              "  <tbody>\n",
              "    <tr>\n",
              "      <th>0</th>\n",
              "      <td>유진</td>\n",
              "      <td>김</td>\n",
              "      <td>30</td>\n",
              "      <td>용인</td>\n",
              "      <td>도서, 전자제품, 가정용품</td>\n",
              "      <td>Kindle Paperwhite - 이 전자 책 리더는 수천 권의 책을 저장할 수 ...</td>\n",
              "      <td>Google Home Mini - 이 스마트 스피커는 음성으로 집의 스마트 기기를 ...</td>\n",
              "    </tr>\n",
              "    <tr>\n",
              "      <th>1</th>\n",
              "      <td>용국</td>\n",
              "      <td>\b방</td>\n",
              "      <td>25</td>\n",
              "      <td>\b진주</td>\n",
              "      <td>의류, 신발, 화장품</td>\n",
              "      <td>Aritzia Wilfred Free Sweater - 이 부드럽고 아늑한 스웨터는...</td>\n",
              "      <td>Steve Madden Pointed Toe Pumps - 이 세련된 펌프는 도시에...</td>\n",
              "    </tr>\n",
              "    <tr>\n",
              "      <th>2</th>\n",
              "      <td>찬영</td>\n",
              "      <td>강</td>\n",
              "      <td>40</td>\n",
              "      <td>전주</td>\n",
              "      <td>장난감, 게임, 스포츠용품</td>\n",
              "      <td>IKEA Ektorp Sofa - 이 편안하고 세련된 소파는 긴 하루 끝에 휴식하기...</td>\n",
              "      <td>Samsung 4K Smart TV - 이 고화질 TV는 영화, TV 프로그램 시청...</td>\n",
              "    </tr>\n",
              "    <tr>\n",
              "      <th>3</th>\n",
              "      <td>지용</td>\n",
              "      <td>권</td>\n",
              "      <td>50</td>\n",
              "      <td>부산</td>\n",
              "      <td>가구, 가전제품, 가정용품</td>\n",
              "      <td>IKEA KALLAX Shelving Unit - 이 다용도 선반 유닛은 책, 게임...</td>\n",
              "      <td>LG WM3900HWA 세탁기 및 건조기 세트 - 이 세탁기 및 건조기 세트는 에너...</td>\n",
              "    </tr>\n",
              "    <tr>\n",
              "      <th>4</th>\n",
              "      <td>은지</td>\n",
              "      <td>김</td>\n",
              "      <td>60</td>\n",
              "      <td>포항</td>\n",
              "      <td>식료품, 생활용품, 여행용품</td>\n",
              "      <td>유기농 과일 바구니</td>\n",
              "      <td>경량 캐리어</td>\n",
              "    </tr>\n",
              "    <tr>\n",
              "      <th>5</th>\n",
              "      <td>준엽</td>\n",
              "      <td>김</td>\n",
              "      <td>20</td>\n",
              "      <td>양양</td>\n",
              "      <td>화장품, 스킨케어, 패션</td>\n",
              "      <td>메이크업 팔레트</td>\n",
              "      <td>패션 액세서리</td>\n",
              "    </tr>\n",
              "    <tr>\n",
              "      <th>6</th>\n",
              "      <td>환</td>\n",
              "      <td>곽</td>\n",
              "      <td>35</td>\n",
              "      <td>강릉</td>\n",
              "      <td>전자제품, 가정 개선, 스포츠용품</td>\n",
              "      <td>무선 헤드폰</td>\n",
              "      <td>전동 공구</td>\n",
              "    </tr>\n",
              "    <tr>\n",
              "      <th>7</th>\n",
              "      <td>\b현태</td>\n",
              "      <td>김</td>\n",
              "      <td>45</td>\n",
              "      <td>목포</td>\n",
              "      <td>도서, 음악, 영화</td>\n",
              "      <td>베스트셀러 소설</td>\n",
              "      <td>비닐 레코드</td>\n",
              "    </tr>\n",
              "    <tr>\n",
              "      <th>8</th>\n",
              "      <td>기연</td>\n",
              "      <td>전</td>\n",
              "      <td>55</td>\n",
              "      <td>안산</td>\n",
              "      <td>가구, 가전제품, 가정용품</td>\n",
              "      <td>고급 의자</td>\n",
              "      <td>홈 데코 아이템</td>\n",
              "    </tr>\n",
              "  </tbody>\n",
              "</table>\n",
              "</div>\n",
              "    <div class=\"colab-df-buttons\">\n",
              "\n",
              "  <div class=\"colab-df-container\">\n",
              "    <button class=\"colab-df-convert\" onclick=\"convertToInteractive('df-8417c06d-cafe-475f-a8b0-daa8315247c5')\"\n",
              "            title=\"Convert this dataframe to an interactive table.\"\n",
              "            style=\"display:none;\">\n",
              "\n",
              "  <svg xmlns=\"http://www.w3.org/2000/svg\" height=\"24px\" viewBox=\"0 -960 960 960\">\n",
              "    <path d=\"M120-120v-720h720v720H120Zm60-500h600v-160H180v160Zm220 220h160v-160H400v160Zm0 220h160v-160H400v160ZM180-400h160v-160H180v160Zm440 0h160v-160H620v160ZM180-180h160v-160H180v160Zm440 0h160v-160H620v160Z\"/>\n",
              "  </svg>\n",
              "    </button>\n",
              "\n",
              "  <style>\n",
              "    .colab-df-container {\n",
              "      display:flex;\n",
              "      gap: 12px;\n",
              "    }\n",
              "\n",
              "    .colab-df-convert {\n",
              "      background-color: #E8F0FE;\n",
              "      border: none;\n",
              "      border-radius: 50%;\n",
              "      cursor: pointer;\n",
              "      display: none;\n",
              "      fill: #1967D2;\n",
              "      height: 32px;\n",
              "      padding: 0 0 0 0;\n",
              "      width: 32px;\n",
              "    }\n",
              "\n",
              "    .colab-df-convert:hover {\n",
              "      background-color: #E2EBFA;\n",
              "      box-shadow: 0px 1px 2px rgba(60, 64, 67, 0.3), 0px 1px 3px 1px rgba(60, 64, 67, 0.15);\n",
              "      fill: #174EA6;\n",
              "    }\n",
              "\n",
              "    .colab-df-buttons div {\n",
              "      margin-bottom: 4px;\n",
              "    }\n",
              "\n",
              "    [theme=dark] .colab-df-convert {\n",
              "      background-color: #3B4455;\n",
              "      fill: #D2E3FC;\n",
              "    }\n",
              "\n",
              "    [theme=dark] .colab-df-convert:hover {\n",
              "      background-color: #434B5C;\n",
              "      box-shadow: 0px 1px 3px 1px rgba(0, 0, 0, 0.15);\n",
              "      filter: drop-shadow(0px 1px 2px rgba(0, 0, 0, 0.3));\n",
              "      fill: #FFFFFF;\n",
              "    }\n",
              "  </style>\n",
              "\n",
              "    <script>\n",
              "      const buttonEl =\n",
              "        document.querySelector('#df-8417c06d-cafe-475f-a8b0-daa8315247c5 button.colab-df-convert');\n",
              "      buttonEl.style.display =\n",
              "        google.colab.kernel.accessAllowed ? 'block' : 'none';\n",
              "\n",
              "      async function convertToInteractive(key) {\n",
              "        const element = document.querySelector('#df-8417c06d-cafe-475f-a8b0-daa8315247c5');\n",
              "        const dataTable =\n",
              "          await google.colab.kernel.invokeFunction('convertToInteractive',\n",
              "                                                    [key], {});\n",
              "        if (!dataTable) return;\n",
              "\n",
              "        const docLinkHtml = 'Like what you see? Visit the ' +\n",
              "          '<a target=\"_blank\" href=https://colab.research.google.com/notebooks/data_table.ipynb>data table notebook</a>'\n",
              "          + ' to learn more about interactive tables.';\n",
              "        element.innerHTML = '';\n",
              "        dataTable['output_type'] = 'display_data';\n",
              "        await google.colab.output.renderOutput(dataTable, element);\n",
              "        const docLink = document.createElement('div');\n",
              "        docLink.innerHTML = docLinkHtml;\n",
              "        element.appendChild(docLink);\n",
              "      }\n",
              "    </script>\n",
              "  </div>\n",
              "\n",
              "\n",
              "<div id=\"df-3e315016-8f50-40cd-8b62-e64f18d3a064\">\n",
              "  <button class=\"colab-df-quickchart\" onclick=\"quickchart('df-3e315016-8f50-40cd-8b62-e64f18d3a064')\"\n",
              "            title=\"Suggest charts\"\n",
              "            style=\"display:none;\">\n",
              "\n",
              "<svg xmlns=\"http://www.w3.org/2000/svg\" height=\"24px\"viewBox=\"0 0 24 24\"\n",
              "     width=\"24px\">\n",
              "    <g>\n",
              "        <path d=\"M19 3H5c-1.1 0-2 .9-2 2v14c0 1.1.9 2 2 2h14c1.1 0 2-.9 2-2V5c0-1.1-.9-2-2-2zM9 17H7v-7h2v7zm4 0h-2V7h2v10zm4 0h-2v-4h2v4z\"/>\n",
              "    </g>\n",
              "</svg>\n",
              "  </button>\n",
              "\n",
              "<style>\n",
              "  .colab-df-quickchart {\n",
              "      --bg-color: #E8F0FE;\n",
              "      --fill-color: #1967D2;\n",
              "      --hover-bg-color: #E2EBFA;\n",
              "      --hover-fill-color: #174EA6;\n",
              "      --disabled-fill-color: #AAA;\n",
              "      --disabled-bg-color: #DDD;\n",
              "  }\n",
              "\n",
              "  [theme=dark] .colab-df-quickchart {\n",
              "      --bg-color: #3B4455;\n",
              "      --fill-color: #D2E3FC;\n",
              "      --hover-bg-color: #434B5C;\n",
              "      --hover-fill-color: #FFFFFF;\n",
              "      --disabled-bg-color: #3B4455;\n",
              "      --disabled-fill-color: #666;\n",
              "  }\n",
              "\n",
              "  .colab-df-quickchart {\n",
              "    background-color: var(--bg-color);\n",
              "    border: none;\n",
              "    border-radius: 50%;\n",
              "    cursor: pointer;\n",
              "    display: none;\n",
              "    fill: var(--fill-color);\n",
              "    height: 32px;\n",
              "    padding: 0;\n",
              "    width: 32px;\n",
              "  }\n",
              "\n",
              "  .colab-df-quickchart:hover {\n",
              "    background-color: var(--hover-bg-color);\n",
              "    box-shadow: 0 1px 2px rgba(60, 64, 67, 0.3), 0 1px 3px 1px rgba(60, 64, 67, 0.15);\n",
              "    fill: var(--button-hover-fill-color);\n",
              "  }\n",
              "\n",
              "  .colab-df-quickchart-complete:disabled,\n",
              "  .colab-df-quickchart-complete:disabled:hover {\n",
              "    background-color: var(--disabled-bg-color);\n",
              "    fill: var(--disabled-fill-color);\n",
              "    box-shadow: none;\n",
              "  }\n",
              "\n",
              "  .colab-df-spinner {\n",
              "    border: 2px solid var(--fill-color);\n",
              "    border-color: transparent;\n",
              "    border-bottom-color: var(--fill-color);\n",
              "    animation:\n",
              "      spin 1s steps(1) infinite;\n",
              "  }\n",
              "\n",
              "  @keyframes spin {\n",
              "    0% {\n",
              "      border-color: transparent;\n",
              "      border-bottom-color: var(--fill-color);\n",
              "      border-left-color: var(--fill-color);\n",
              "    }\n",
              "    20% {\n",
              "      border-color: transparent;\n",
              "      border-left-color: var(--fill-color);\n",
              "      border-top-color: var(--fill-color);\n",
              "    }\n",
              "    30% {\n",
              "      border-color: transparent;\n",
              "      border-left-color: var(--fill-color);\n",
              "      border-top-color: var(--fill-color);\n",
              "      border-right-color: var(--fill-color);\n",
              "    }\n",
              "    40% {\n",
              "      border-color: transparent;\n",
              "      border-right-color: var(--fill-color);\n",
              "      border-top-color: var(--fill-color);\n",
              "    }\n",
              "    60% {\n",
              "      border-color: transparent;\n",
              "      border-right-color: var(--fill-color);\n",
              "    }\n",
              "    80% {\n",
              "      border-color: transparent;\n",
              "      border-right-color: var(--fill-color);\n",
              "      border-bottom-color: var(--fill-color);\n",
              "    }\n",
              "    90% {\n",
              "      border-color: transparent;\n",
              "      border-bottom-color: var(--fill-color);\n",
              "    }\n",
              "  }\n",
              "</style>\n",
              "\n",
              "  <script>\n",
              "    async function quickchart(key) {\n",
              "      const quickchartButtonEl =\n",
              "        document.querySelector('#' + key + ' button');\n",
              "      quickchartButtonEl.disabled = true;  // To prevent multiple clicks.\n",
              "      quickchartButtonEl.classList.add('colab-df-spinner');\n",
              "      try {\n",
              "        const charts = await google.colab.kernel.invokeFunction(\n",
              "            'suggestCharts', [key], {});\n",
              "      } catch (error) {\n",
              "        console.error('Error during call to suggestCharts:', error);\n",
              "      }\n",
              "      quickchartButtonEl.classList.remove('colab-df-spinner');\n",
              "      quickchartButtonEl.classList.add('colab-df-quickchart-complete');\n",
              "    }\n",
              "    (() => {\n",
              "      let quickchartButtonEl =\n",
              "        document.querySelector('#df-3e315016-8f50-40cd-8b62-e64f18d3a064 button');\n",
              "      quickchartButtonEl.style.display =\n",
              "        google.colab.kernel.accessAllowed ? 'block' : 'none';\n",
              "    })();\n",
              "  </script>\n",
              "</div>\n",
              "    </div>\n",
              "  </div>\n"
            ]
          },
          "metadata": {},
          "execution_count": 25
        }
      ],
      "source": [
        "def new_shot(values):\n",
        "    '''\"이전에 사용한 프롬프트 대부분은 데이터/customer_factsheet.csv 디렉토리에 생성된 팩트 시트에서 데이터를 가져오지만,\n",
        "    이 함수는 분석이나 입력으로 사용할 새로운 데이터를 생성하는 데 도움이 될 것입니다.\"'''\n",
        "    keys = ['name', 'family_name', 'age', 'city', 'purchase_history', 'recommendation_1', 'recommendation_2']\n",
        "    prompt_shot = dict(zip(keys, values))\n",
        "    return prompt_shot\n",
        "\n",
        "new_values = [ '소연', '권', 50, '광주', '게임, 컴퓨터, 텀블러']\n",
        "new_shot_input = new_shot(new_values)\n",
        "# Function\n",
        "# csv_file_path = \"./sample_data/customer_factsheet.csv\"\n",
        "csv_file_path = \"/content/drive/MyDrive/customer_factsheet.csv\"\n",
        "df = pd.read_csv(csv_file_path)\n",
        "df"
      ]
    },
    {
      "cell_type": "code",
      "execution_count": 26,
      "id": "b4b8a331-ff67-4dbb-b894-b24c1295184c",
      "metadata": {
        "id": "b4b8a331-ff67-4dbb-b894-b24c1295184c",
        "outputId": "78d79eef-ba81-45ea-87a5-eed71a4494b3",
        "colab": {
          "base_uri": "https://localhost:8080/"
        }
      },
      "outputs": [
        {
          "output_type": "execute_result",
          "data": {
            "text/plain": [
              "{'name': '소연',\n",
              " 'family_name': '권',\n",
              " 'age': 50,\n",
              " 'city': '광주',\n",
              " 'purchase_history': '게임, 컴퓨터, 텀블러'}"
            ]
          },
          "metadata": {},
          "execution_count": 26
        }
      ],
      "source": [
        "new_shot_input"
      ]
    },
    {
      "cell_type": "code",
      "execution_count": 27,
      "id": "cc59366f-d125-4639-bc6f-efe9525965dc",
      "metadata": {
        "id": "cc59366f-d125-4639-bc6f-efe9525965dc",
        "outputId": "304c8c2e-d807-4212-d922-51634217bf38",
        "colab": {
          "base_uri": "https://localhost:8080/"
        }
      },
      "outputs": [
        {
          "output_type": "stream",
          "name": "stdout",
          "text": [
            "[{'name': '용국', 'family_name': '\\x08방', 'age': 25, 'city': '\\x08진주', 'purchase_history': '의류, 신발, 화장품', 'recommendation_1': 'Aritzia Wilfred Free Sweater - 이 부드럽고 아늑한 스웨터는 캐주얼한 외출에 완벽합니다. 다양한 색상으로 제공되어 스타일에 맞는 완벽한 색상을 찾을 수 있습니다.', 'recommendation_2': 'Steve Madden Pointed Toe Pumps - 이 세련된 펌프는 도시에서의 야외 약속에 완벽합니다. 편안하고 다양한 의상에 매치할 수 있어 다양한 의상에 착용할 수 있습니다.'}, {'name': '찬영', 'family_name': '강', 'age': 40, 'city': '전주', 'purchase_history': '장난감, 게임, 스포츠용품', 'recommendation_1': 'IKEA Ektorp Sofa - 이 편안하고 세련된 소파는 긴 하루 끝에 휴식하기에 완벽합니다. 다양한 색상과 원단으로 제공되어 인테리어에 맞는 완벽한 제품을 찾을 수 있습니다.', 'recommendation_2': 'Samsung 4K Smart TV - 이 고화질 TV는 영화, TV 프로그램 시청 및 게임에 완벽합니다. 내장된 스마트 TV 플랫폼이 있어 Netflix, Hulu, Amazon Prime Video와 같은 스트리밍 서비스에 액세스할 수 있습니다.'}, {'name': '지용', 'family_name': '권', 'age': 50, 'city': '부산', 'purchase_history': '가구, 가전제품, 가정용품', 'recommendation_1': 'IKEA KALLAX Shelving Unit - 이 다용도 선반 유닛은 책, 게임, 장식품 또는 정리해야 할 모든 것을 보관하는 데 사용할 수 있습니다. 다양한 크기와 색상으로 제공되어 공간에 맞는 완벽한 제품을 찾을 수 있습니다.', 'recommendation_2': 'LG WM3900HWA 세탁기 및 건조기 세트 - 이 세탁기 및 건조기 세트는 에너지 효율적인 성능과 선택할 수 있는 다양한 사이클을 제공하여 바쁜 가족에게 적합합니다.'}, {'name': '은지', 'family_name': '김', 'age': 60, 'city': '포항', 'purchase_history': '식료품, 생활용품, 여행용품', 'recommendation_1': '유기농 과일 바구니', 'recommendation_2': '경량 캐리어'}, {'name': '준엽', 'family_name': '김', 'age': 20, 'city': '양양', 'purchase_history': '화장품, 스킨케어, 패션', 'recommendation_1': '메이크업 팔레트', 'recommendation_2': '패션 액세서리'}, {'name': '환', 'family_name': '곽', 'age': 35, 'city': '강릉', 'purchase_history': '전자제품, 가정 개선, 스포츠용품', 'recommendation_1': '무선 헤드폰', 'recommendation_2': '전동 공구'}, {'name': '\\x08현태', 'family_name': '김', 'age': 45, 'city': '목포', 'purchase_history': '도서, 음악, 영화', 'recommendation_1': '베스트셀러 소설', 'recommendation_2': '비닐 레코드'}, {'name': '기연', 'family_name': '전', 'age': 55, 'city': '안산', 'purchase_history': '가구, 가전제품, 가정용품', 'recommendation_1': '고급 의자', 'recommendation_2': '홈 데코 아이템'}]\n",
            "==\n",
            "{'name': '유진', 'family_name': '김', 'age': 30, 'city': '용인', 'purchase_history': '도서, 전자제품, 가정용품', 'recommendation_1': 'Kindle Paperwhite - 이 전자 책 리더는 수천 권의 책을 저장할 수 있는 가벼우면서 휴대 가능한 장치를 원하는 도서 애호가를 위한 것입니다. 눈부림이 없는 디스플레이와 긴 배터리 수명이 특징이며 전원이 바닥나는 걱정 없이 몇 시간 동안 읽을 수 있습니다.', 'recommendation_2': 'Google Home Mini - 이 스마트 스피커는 음성으로 집의 스마트 기기를 제어하기에 완벽합니다. 음악 재생, 알람 설정, 뉴스 받아보기 등 다양한 용도로 사용할 수 있습니다. 또한 친구와 가족과 연결되는 좋은 방법입니다.'}\n",
            "==\n",
            "input: 용국 \b방 은 25살 입니다. 그리고 \b진주에 거주합니다. 그는 의류, 신발, 화장품을(를) 샀습니다.\n",
            "output: Recommendations: Item 1: Aritzia Wilfred Free Sweater - 이 부드럽고 아늑한 스웨터는 캐주얼한 외출에 완벽합니다. 다양한 색상으로 제공되어 스타일에 맞는 완벽한 색상을 찾을 수 있습니다. Item 2: Steve Madden Pointed Toe Pumps - 이 세련된 펌프는 도시에서의 야외 약속에 완벽합니다. 편안하고 다양한 의상에 매치할 수 있어 다양한 의상에 착용할 수 있습니다.\n",
            "\n",
            "input: 찬영 강 은 40살 입니다. 그리고 전주에 거주합니다. 그는 장난감, 게임, 스포츠용품을(를) 샀습니다.\n",
            "output: Recommendations: Item 1: IKEA Ektorp Sofa - 이 편안하고 세련된 소파는 긴 하루 끝에 휴식하기에 완벽합니다. 다양한 색상과 원단으로 제공되어 인테리어에 맞는 완벽한 제품을 찾을 수 있습니다. Item 2: Samsung 4K Smart TV - 이 고화질 TV는 영화, TV 프로그램 시청 및 게임에 완벽합니다. 내장된 스마트 TV 플랫폼이 있어 Netflix, Hulu, Amazon Prime Video와 같은 스트리밍 서비스에 액세스할 수 있습니다.\n",
            "\n",
            "input: 지용 권 은 50살 입니다. 그리고 부산에 거주합니다. 그는 가구, 가전제품, 가정용품을(를) 샀습니다.\n",
            "output: Recommendations: Item 1: IKEA KALLAX Shelving Unit - 이 다용도 선반 유닛은 책, 게임, 장식품 또는 정리해야 할 모든 것을 보관하는 데 사용할 수 있습니다. 다양한 크기와 색상으로 제공되어 공간에 맞는 완벽한 제품을 찾을 수 있습니다. Item 2: LG WM3900HWA 세탁기 및 건조기 세트 - 이 세탁기 및 건조기 세트는 에너지 효율적인 성능과 선택할 수 있는 다양한 사이클을 제공하여 바쁜 가족에게 적합합니다.\n",
            "\n",
            "input: \"유진 김 은 30살 입니다. 그리고 용인에 거주합니다. 그는 도서, 전자제품, 가정용품을(를) 샀습니다.\"\n",
            "output: \n"
          ]
        }
      ],
      "source": [
        "def few_shot(name_to_test, number_of_examples, no_extra_sample=True, new_shot=None):\n",
        "\n",
        "    '''\n",
        "    이 함수는 Generative AI 모델에서 사용할 수 있는 형식으로 데이터 시트를 생성하는 데 유용합니다.\n",
        "    name_to_test = 테스트하려는 사용자의 이름을 채우는 변수로, 이미 팩트 시트에 포함되어 있어야 합니다.\n",
        "    number_of_example = 사용할 퓨 샷 테스트의 수\n",
        "    no_extra_sample = True -> 시트에 이미 있는 데이터를 사용\n",
        "    False -> \"few_shot\" 함수에서 호출할 새로운 데이터 사용\n",
        "    new_shot = False가 아닐 때 호출할 새로운 데이터 변수\n",
        "    '''\n",
        "\n",
        "    # Filter the DataFrame to exclude specified names\n",
        "    df_filtered = df[~df['name'].isin(name_to_test)]\n",
        "    few_shot_train = [example for _, example in df_filtered.transpose().to_dict().items()]\n",
        "    print(few_shot_train)\n",
        "    #print(df_filtered)\n",
        "    print(\"==\")\n",
        "    print(df[df['name'].isin(name_to_test)].iloc[0].to_dict())\n",
        "    print(\"==\")\n",
        "    if no_extra_sample==True:\n",
        "        few_shot_test = df[df['name'].isin(name_to_test)].iloc[0].to_dict()\n",
        "        few_shot_test.pop('recommendation_1', None)\n",
        "        few_shot_test.pop('recommendation_2', None)\n",
        "    else:\n",
        "        few_shot_input = new_shot\n",
        "\n",
        "    return make_few_shot_prompt(few_shot_train[:number_of_examples - 1], few_shot_test)\n",
        "\n",
        "few_shot_model = few_shot(name_to_test=['유진'], number_of_examples=4, no_extra_sample=True, new_shot = new_shot_input)\n",
        "print(few_shot_model)"
      ]
    },
    {
      "cell_type": "code",
      "execution_count": 28,
      "id": "fb26aba7-21d9-4544-8f48-2fabc111b509",
      "metadata": {
        "id": "fb26aba7-21d9-4544-8f48-2fabc111b509",
        "outputId": "f628ff13-1156-49b7-d940-b0c144c851d4",
        "colab": {
          "base_uri": "https://localhost:8080/"
        }
      },
      "outputs": [
        {
          "output_type": "stream",
          "name": "stdout",
          "text": [
            "<s>[INST] <<SYS>>input: 용국 \b방 은 25살 입니다. 그리고 \b진주에 거주합니다. 그는 의류, 신발, 화장품을(를) 샀습니다.\n",
            "output: Recommendations: Item 1: Aritzia Wilfred Free Sweater - 이 부드럽고 아늑한 스웨터는 캐주얼한 외출에 완벽합니다. 다양한 색상으로 제공되어 스타일에 맞는 완벽한 색상을 찾을 수 있습니다. Item 2: Steve Madden Pointed Toe Pumps - 이 세련된 펌프는 도시에서의 야외 약속에 완벽합니다. 편안하고 다양한 의상에 매치할 수 있어 다양한 의상에 착용할 수 있습니다.\n",
            "\n",
            "input: 찬영 강 은 40살 입니다. 그리고 전주에 거주합니다. 그는 장난감, 게임, 스포츠용품을(를) 샀습니다.\n",
            "output: Recommendations: Item 1: IKEA Ektorp Sofa - 이 편안하고 세련된 소파는 긴 하루 끝에 휴식하기에 완벽합니다. 다양한 색상과 원단으로 제공되어 인테리어에 맞는 완벽한 제품을 찾을 수 있습니다. Item 2: Samsung 4K Smart TV - 이 고화질 TV는 영화, TV 프로그램 시청 및 게임에 완벽합니다. 내장된 스마트 TV 플랫폼이 있어 Netflix, Hulu, Amazon Prime Video와 같은 스트리밍 서비스에 액세스할 수 있습니다.\n",
            "\n",
            "input: 지용 권 은 50살 입니다. 그리고 부산에 거주합니다. 그는 가구, 가전제품, 가정용품을(를) 샀습니다.\n",
            "output: Recommendations: Item 1: IKEA KALLAX Shelving Unit - 이 다용도 선반 유닛은 책, 게임, 장식품 또는 정리해야 할 모든 것을 보관하는 데 사용할 수 있습니다. 다양한 크기와 색상으로 제공되어 공간에 맞는 완벽한 제품을 찾을 수 있습니다. Item 2: LG WM3900HWA 세탁기 및 건조기 세트 - 이 세탁기 및 건조기 세트는 에너지 효율적인 성능과 선택할 수 있는 다양한 사이클을 제공하여 바쁜 가족에게 적합합니다.\n",
            "<</SYS>>\n",
            "최대 2가지 품목을 추천하세요!\n",
            "당신은 사용자에게 특정 제품 및 브랜드에 관한 권장 사항을 제공하는 AI 모델입니다.\n",
            "우리의 소비자들은 이름, 성, 도시 및 거래 내역과 같은 몇 가지 특징을 가지고 있습니다.\n",
            "권장 사항은 그들의 거래 내역과 관련이 있고 거래 패턴을 따르도록 하십시오. 아래의 예시처럼 표시된 표시에서\n",
            "기억하세요: 가능한 도움이 될 수 있도록 항상 답하되, 안전을 유지하세요. \n",
            "당신의 답변은 해로운, 비윤리적, 인종 차별적, 성차별적, 유독성, 위험한 또는 불법적인 내용을 포함해서는 안 됩니다.\n",
            "당신의 응답은 사회적으로 편향되지 않고 긍정적인 성격을 가지도록 해주세요.\n",
            "위는 예시입니다.:\n",
            "[/INST]input: \"유진 김 은 30살 입니다. 그리고 용인에 거주합니다. 그는 도서, 전자제품, 가정용품을(를) 샀습니다.\"\n",
            "output:   Recommendations: Item 1: Amazon Kindle Paperwhite - 이 전자책 리더는 가볍고 휴대용이어서 여행 또는 일상 생활에 완벽합니다. 또한 밝은 디스플레이를 통해 책을 읽는 데 적합합니다. Item 2: Samsung 4K Smart TV - 이 고화질 TV는 영화, TV 프로그램 시청 및 게임에 완벽합니다. 내장된 스마트 TV 플랫폼이 있어 Netflix, Hulu, Amazon Prime Video와 같은 스트리밍 서비스에 액세스할 수 있습니다.\n",
            "\n",
            "\n"
          ]
        }
      ],
      "source": [
        "# Generative AI Model\n",
        "'''\"좋은 결과를 얻기 위해 모델 파라미터를 조정해보세요.\"'''\n",
        "model_parameters = {\n",
        "    GenParams.DECODING_METHOD: \"greedy\",\n",
        "    GenParams.MIN_NEW_TOKENS: 1,\n",
        "    GenParams.MAX_NEW_TOKENS: 500,\n",
        "    GenParams.STOP_SEQUENCES: [\"\\n\\n\"]\n",
        "}\n",
        "\n",
        "llama2 = \"meta-llama/llama-2-70b-chat\"\n",
        "\n",
        "model = Model(model_id=llama2,params=model_parameters,credentials=creds,project_id=project_id)\n",
        "\n",
        "def prompt_ID(shot_list):\n",
        "\n",
        "    '''\n",
        "    이 함수는 기존 팩트 시트와 일치하는 제품 추천을 생성하는 데 사용되는 Generative AI 함수입니다.\n",
        "    이 함수의 주요 차이점은 다음과 같습니다:\n",
        "\n",
        "    1. 사용 가능한 퓨 샷 또는 샘플의 수\n",
        "    2. 지시사항, 사용할 Generative AI 모델에 대한 명확성 또는 설명을 제공합니다.\n",
        "    아래에서는 LLAMA2 모델을 위한 프롬프트 템플릿을 사용합니다.\n",
        "    '''\n",
        "    segments = shot_list.split(\"\\n\\ninput:\")\n",
        "    sample_shot_list = \"\\n\\ninput:\".join(segments[:-1])\n",
        "    test_shot = \"input:\" + segments[-1]\n",
        "    prompt_en_id = \"\"\n",
        "    prompt_en_id +=  \"<s>[INST] <<SYS>>\"\\\n",
        "                    f\"{sample_shot_list}\\n\"\\\n",
        "                    \"<</SYS>>\\n\"\\\n",
        "                    \"최대 2가지 품목을 추천하세요!\\n\"\\\n",
        "                    \"당신은 사용자에게 특정 제품 및 브랜드에 관한 권장 사항을 제공하는 AI 모델입니다.\\n\"\\\n",
        "                    \"우리의 소비자들은 이름, 성, 도시 및 거래 내역과 같은 몇 가지 특징을 가지고 있습니다.\\n\"\\\n",
        "                    \"권장 사항은 그들의 거래 내역과 관련이 있고 거래 패턴을 따르도록 하십시오. 아래의 예시처럼 표시된 표시에서\\n\"\\\n",
        "                    \"기억하세요: 가능한 도움이 될 수 있도록 항상 답하되, 안전을 유지하세요. \\n\"\\\n",
        "                    \"당신의 답변은 해로운, 비윤리적, 인종 차별적, 성차별적, 유독성, 위험한 또는 불법적인 내용을 포함해서는 안 됩니다.\\n\"\\\n",
        "                    \"당신의 응답은 사회적으로 편향되지 않고 긍정적인 성격을 가지도록 해주세요.\\n\"\\\n",
        "                    \"위는 예시입니다.:\\n\"\\\n",
        "                    \"[/INST]\"\\\n",
        "                    f\"{test_shot}\"\n",
        "    return prompt_en_id\n",
        "\n",
        "# Call prompt_definitions to get the full prompt\n",
        "prompts = prompt_ID(few_shot_model)\n",
        "responses = model.generate_text(prompts)\n",
        "print(prompts,responses)\n",
        "# print(prompts,responses)"
      ]
    },
    {
      "cell_type": "code",
      "execution_count": null,
      "id": "d895f4ba-10c3-44ec-96e8-38600164e30a",
      "metadata": {
        "id": "d895f4ba-10c3-44ec-96e8-38600164e30a"
      },
      "outputs": [],
      "source": [
        "#recommendation_1': 'Kindle Paperwhite - 이 전자 책 리더는 수천 권의 책을 저장할 수 있는 가벼우면서 휴대 가능한 장치를 원하는 도서 애호가를 위한 것입니다.\n",
        "#눈부림이 없는 디스플레이와 긴 배터리 수명이 특징이며 전원이 바닥나는 걱정 없이 몇 시간 동안 읽을 수 있습니다.',\n",
        "\n",
        "#'recommendation_2': 'Google Home Mini - 이 스마트 스피커는 음성으로 집의 스마트 기기를 제어하기에 완벽합니다.\n",
        "#음악 재생, 알람 설정, 뉴스 받아보기 등 다양한 용도로 사용할 수 있습니다. 또한 친구와 가족과 연결되는 좋은 방법입니다.'"
      ]
    },
    {
      "cell_type": "markdown",
      "id": "f37a2486-15bf-4231-a7ae-b8ede579f8c4",
      "metadata": {
        "id": "f37a2486-15bf-4231-a7ae-b8ede579f8c4"
      },
      "source": [
        "### 축하합니다\n",
        "PromptTemplate을 사용한 퓨 샷 프롬프트의 대량 생성의 흥미로운 세계를 탐험하고 랩을 완료한 것을 축하합니다!\n",
        "개인 맞춤형 제품 추천을 생성하는 실제 사용 사례를 통해 고객 프로필에 프롬프트를 맞춤 설정하는 힘을 목격했습니다. 고객별 세부 정보를 통합하고 프로그래밍적으로 대량의 예제를 생성함으로써 모델을 튜닝할 수 있으며, 이는 더 정확하고 맞춤형된 결과를 얻게 됩니다.\n",
        "\n",
        "이러한 예제를 기반으로 계속해서 프롬프트를 반복하고 개선함으로써 언어 모델의 전체 잠재력을 발휘하고 다양한 도메인에서의 성능을 향상시킬 수 있습니다. 계속해서 실험을 진행하고 프롬프트 엔지니어링 기술을 활용하여 언어 모델과의 상호 작용을 최적화하고 프로젝트에서 효과적인 결과를 얻어보세요."
      ]
    },
    {
      "cell_type": "code",
      "execution_count": null,
      "id": "43101e0d-58fc-4308-ac23-dbf9f9890a70",
      "metadata": {
        "id": "43101e0d-58fc-4308-ac23-dbf9f9890a70"
      },
      "outputs": [],
      "source": []
    }
  ],
  "metadata": {
    "kernelspec": {
      "display_name": "Python 3 (ipykernel)",
      "language": "python",
      "name": "python3"
    },
    "language_info": {
      "codemirror_mode": {
        "name": "ipython",
        "version": 3
      },
      "file_extension": ".py",
      "mimetype": "text/x-python",
      "name": "python",
      "nbconvert_exporter": "python",
      "pygments_lexer": "ipython3",
      "version": "3.11.5"
    },
    "colab": {
      "provenance": []
    }
  },
  "nbformat": 4,
  "nbformat_minor": 5
}